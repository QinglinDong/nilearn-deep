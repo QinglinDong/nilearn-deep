{
 "cells": [
  {
   "cell_type": "code",
   "execution_count": 1,
   "metadata": {},
   "outputs": [],
   "source": [
    "import numpy as np"
   ]
  },
  {
   "cell_type": "code",
   "execution_count": 2,
   "metadata": {},
   "outputs": [],
   "source": [
    "from nilearn.decomposition import CanICA\n",
    "def prepare_data(func_filenames):\n",
    "    canica = CanICA(memory=\"nilearn_cache\", memory_level=2,\n",
    "                    threshold=3., verbose=10, random_state=0, \n",
    "                    mask='/home/share/TmpData/Qinglin/ADHD200_Athena_preproc_flirtfix/ADHD200_mask_152_4mm.nii.gz')\n",
    "    data=canica.prepare_data(func_filenames)\n",
    "    return data"
   ]
  },
  {
   "cell_type": "code",
   "execution_count": null,
   "metadata": {},
   "outputs": [],
   "source": [
    "import os\n",
    "func_filenames=[]\n",
    "for x in os.listdir('/home/share/TmpData/Qinglin/ADHD200_Athena_preproc_flirtfix/NYU'):\n",
    "    file='/home/share/TmpData/Qinglin/ADHD200_Athena_preproc_flirtfix/NYU/'+str(x)+'/sfnwmrda'+str(x)+'_session_1_rest_1.nii.gz'\n",
    "    #print(file)\n",
    "    if os.path.isfile(file):\n",
    "        func_filenames.append(file)  \n",
    "    else:\n",
    "        print(file)  \n",
    "func_filenames=sorted(func_filenames)\n",
    "print(len(func_filenames))\n",
    "\n",
    "X = prepare_data(func_filenames)  # list of 4D nifti files for each subject  \n",
    "\n",
    "np.save('/home/share/TmpData/Qinglin/ADHD200_Athena_preproc_flirtfix/NYU/All_Data_20',X)\n"
   ]
  },
  {
   "cell_type": "code",
   "execution_count": 3,
   "metadata": {},
   "outputs": [],
   "source": [
    "import pandas as pd\n",
    "data = pd.read_csv('/home/share/TmpData/Qinglin/ADHD200_Athena_preproc_flirtfix/NYU/NYU_phenotypic.csv')\n",
    "Y = data['DX'].values\n",
    "\n",
    "for index, item in enumerate(Y):\n",
    "    if item>1:\n",
    "        Y[index] = 1\n",
    "np.save('/home/share/TmpData/Qinglin/ADHD200_Athena_preproc_flirtfix/NYU/All_Labels.npy',Y)"
   ]
  },
  {
   "cell_type": "code",
   "execution_count": 3,
   "metadata": {
    "scrolled": true
   },
   "outputs": [
    {
     "name": "stdout",
     "output_type": "stream",
     "text": [
      "/home/share/TmpData/Qinglin/ADHD200_Athena_preproc_flirtfix/NYU/motion/sfnwmrdamotion_session_1_rest_1.nii.gz\n",
      "/home/share/TmpData/Qinglin/ADHD200_Athena_preproc_flirtfix/NYU/All_Labels.npy/sfnwmrdaAll_Labels.npy_session_1_rest_1.nii.gz\n",
      "/home/share/TmpData/Qinglin/ADHD200_Athena_preproc_flirtfix/NYU/All_Data.npy/sfnwmrdaAll_Data.npy_session_1_rest_1.nii.gz\n",
      "/home/share/TmpData/Qinglin/ADHD200_Athena_preproc_flirtfix/NYU/NYU_phenotypic.csv/sfnwmrdaNYU_phenotypic.csv_session_1_rest_1.nii.gz\n",
      "216\n",
      "[MultiNiftiMasker.fit] Loading data from None\n",
      "[MultiNiftiMasker.transform] Resampling mask\n",
      "[CanICA] Loading data\n",
      "/home/share/TmpData/Qinglin/ADHD200_Athena_preproc_flirtfix/NYU/0010001/sfnwmrda0010001_session_1_rest_1.nii.gz\n",
      "[MultiNiftiMasker.transform_single_imgs] Loading data from Nifti1Image('/home/share/TmpData/Qinglin/ADHD200_Athena_preproc_flirtfix/NYU/0010001/sfnwmrda0010001_session_1_rest_1.nii.gz')\n",
      "[MultiNiftiMasker.transform_single_imgs] Smoothing images\n",
      "[MultiNiftiMasker.transform_single_imgs] Extracting region signals\n",
      "[MultiNiftiMasker.transform_single_imgs] Cleaning extracted signals\n"
     ]
    }
   ],
   "source": [
    "import os\n",
    "func_filenames=[]\n",
    "for x in os.listdir('/home/share/TmpData/Qinglin/ADHD200_Athena_preproc_flirtfix/NYU'):\n",
    "    file='/home/share/TmpData/Qinglin/ADHD200_Athena_preproc_flirtfix/NYU/'+str(x)+'/sfnwmrda'+str(x)+'_session_1_rest_1.nii.gz'\n",
    "    #print(file)\n",
    "    if os.path.isfile(file):\n",
    "        func_filenames.append(file)  \n",
    "    else:\n",
    "        print(file)  \n",
    "func_filenames=sorted(func_filenames)\n",
    "print(len(func_filenames))\n",
    "\n",
    "\n",
    "canica = CanICA(n_components=None,memory=\"nilearn_cache\", memory_level=2,\n",
    "                threshold=3., verbose=10, random_state=0, \n",
    "                mask='/home/share/TmpData/Qinglin/ADHD200_Athena_preproc_flirtfix/ADHD200_mask_152_4mm.nii.gz')\n",
    "X=canica.prepare_data(func_filenames[0])\n",
    "\n",
    "np.save('/home/share/TmpData/Qinglin/ADHD200_Athena_preproc_flirtfix/NYU/All_Data',X)\n"
   ]
  },
  {
   "cell_type": "code",
   "execution_count": 4,
   "metadata": {},
   "outputs": [
    {
     "name": "stdout",
     "output_type": "stream",
     "text": [
      "(172, 28546)\n"
     ]
    }
   ],
   "source": [
    "print(X.shape)"
   ]
  },
  {
   "cell_type": "code",
   "execution_count": null,
   "metadata": {},
   "outputs": [],
   "source": []
  }
 ],
 "metadata": {
  "kernelspec": {
   "display_name": "Python 3",
   "language": "python",
   "name": "python3"
  },
  "language_info": {
   "codemirror_mode": {
    "name": "ipython",
    "version": 3
   },
   "file_extension": ".py",
   "mimetype": "text/x-python",
   "name": "python",
   "nbconvert_exporter": "python",
   "pygments_lexer": "ipython3",
   "version": "3.5.2"
  }
 },
 "nbformat": 4,
 "nbformat_minor": 2
}
