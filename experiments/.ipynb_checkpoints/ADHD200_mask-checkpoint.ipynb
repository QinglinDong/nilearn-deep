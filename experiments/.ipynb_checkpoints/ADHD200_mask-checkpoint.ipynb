{
 "cells": [
  {
   "cell_type": "markdown",
   "metadata": {},
   "source": [
    "generate mask"
   ]
  },
  {
   "cell_type": "code",
   "execution_count": 3,
   "metadata": {},
   "outputs": [
    {
     "ename": "NameError",
     "evalue": "name 'load_img' is not defined",
     "output_type": "error",
     "traceback": [
      "\u001b[0;31m---------------------------------------------------------------------------\u001b[0m",
      "\u001b[0;31mNameError\u001b[0m                                 Traceback (most recent call last)",
      "\u001b[0;32m<ipython-input-3-192328661ac7>\u001b[0m in \u001b[0;36m<module>\u001b[0;34m\u001b[0m\n\u001b[1;32m      3\u001b[0m \u001b[0;34m\u001b[0m\u001b[0m\n\u001b[1;32m      4\u001b[0m \u001b[0mtemplate\u001b[0m \u001b[0;34m=\u001b[0m \u001b[0mload_mni152_template\u001b[0m\u001b[0;34m(\u001b[0m\u001b[0;34m)\u001b[0m\u001b[0;34m\u001b[0m\u001b[0m\n\u001b[0;32m----> 5\u001b[0;31m \u001b[0mtemplate_img\u001b[0m \u001b[0;34m=\u001b[0m \u001b[0mload_img\u001b[0m\u001b[0;34m(\u001b[0m\u001b[0mtemplate\u001b[0m\u001b[0;34m)\u001b[0m\u001b[0;34m\u001b[0m\u001b[0m\n\u001b[0m\u001b[1;32m      6\u001b[0m \u001b[0;34m\u001b[0m\u001b[0m\n\u001b[1;32m      7\u001b[0m \u001b[0;32mfrom\u001b[0m \u001b[0mnilearn\u001b[0m\u001b[0;34m.\u001b[0m\u001b[0mimage\u001b[0m \u001b[0;32mimport\u001b[0m \u001b[0mload_img\u001b[0m\u001b[0;34m\u001b[0m\u001b[0m\n",
      "\u001b[0;31mNameError\u001b[0m: name 'load_img' is not defined"
     ]
    }
   ],
   "source": [
    "from nilearn.datasets import fetch_neurovault_motor_task\n",
    "from nilearn.datasets import load_mni152_template\n",
    "\n",
    "template = load_mni152_template()\n",
    "template_img = load_img(template)\n",
    "\n",
    "from nilearn.image import load_img\n",
    "\n",
    "mask = '/storage/ADHD200/athena/NYU/0010001/mask_wmean_mrda0010001_session_1_rest_1.nii.gz'\n",
    "mask = load_img(mask)\n",
    "\n",
    "mean='/storage/ADHD200/athena/NYU/0010001/wmean_mrda0010001_session_1_rest_1.nii.gz'\n",
    "mean = load_img(mean)"
   ]
  },
  {
   "cell_type": "code",
   "execution_count": null,
   "metadata": {},
   "outputs": [],
   "source": [
    "print(\"\"\"Affine comparison:\n",
    "- Original t-map image affine :\\n {0}\n",
    "- Resampled t-map image affine:\\n {1}\n",
    "- Template image affine       :\\n {2}\n",
    "\"\"\".format(mask.affine, mean.affine)"
   ]
  },
  {
   "cell_type": "code",
   "execution_count": null,
   "metadata": {},
   "outputs": [],
   "source": [
    "from nilearn.image import resample_to_img\n",
    "\n",
    "resampled_stat_img = resample_to_img(stat_img, template)\n"
   ]
  },
  {
   "cell_type": "code",
   "execution_count": null,
   "metadata": {},
   "outputs": [],
   "source": [
    "original_shape = tmap_img.shape\n",
    "original_affine = tmap_img.affine\n",
    "\n",
    "resampled_shape = resampled_stat_img.shape\n",
    "resampled_affine = resampled_stat_img.affine\n",
    "\n",
    "\n",
    "template_shape = template_img.shape\n",
    "template_affine = template_img.affine\n",
    "print(\"\"\"Shape comparison:\n",
    "- Original t-map image shape : {0}\n",
    "- Resampled t-map image shape: {1}\n",
    "- Template image shape       : {2}\n",
    "\"\"\".format(original_shape, resampled_shape, template_shape))\n",
    "\n",
    "print(\"\"\"Affine comparison:\n",
    "- Original t-map image affine :\\n {0}\n",
    "- Resampled t-map image affine:\\n {1}\n",
    "- Template image affine       :\\n {2}\n",
    "\"\"\".format(original_affine, resampled_affine, template_affine))\n"
   ]
  }
 ],
 "metadata": {
  "kernelspec": {
   "display_name": "Python 3",
   "language": "python",
   "name": "python3"
  },
  "language_info": {
   "codemirror_mode": {
    "name": "ipython",
    "version": 3
   },
   "file_extension": ".py",
   "mimetype": "text/x-python",
   "name": "python",
   "nbconvert_exporter": "python",
   "pygments_lexer": "ipython3",
   "version": "3.5.2"
  }
 },
 "nbformat": 4,
 "nbformat_minor": 2
}
