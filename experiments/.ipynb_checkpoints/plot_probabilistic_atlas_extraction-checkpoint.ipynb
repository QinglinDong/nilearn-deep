{
 "cells": [
  {
   "cell_type": "code",
   "execution_count": null,
   "metadata": {},
   "outputs": [],
   "source": [
    "%matplotlib inline"
   ]
  },
  {
   "cell_type": "markdown",
   "metadata": {},
   "source": [
    "\n",
    "Extracting signals of a probabilistic atlas of rest functional regions\n",
    "========================================================================\n",
    "\n",
    "This example extracts the signal on regions defined via a probabilistic\n",
    "atlas, to construct a functional connectome.\n",
    "\n",
    "We use the `MSDL atlas\n",
    "<https://team.inria.fr/parietal/18-2/spatial_patterns/spatial-patterns-in-resting-state/>`_\n",
    "of functional regions in rest.\n",
    "\n",
    "The key to extract signals is to use the\n",
    ":class:`nilearn.input_data.NiftiMapsMasker` that can transform nifti\n",
    "objects to time series using a probabilistic atlas.\n",
    "\n",
    "As the MSDL atlas comes with (x, y, z) MNI coordinates for the different\n",
    "regions, we can visualize the matrix as a graph of interaction in a\n",
    "brain. To avoid having too dense a graph, we represent only the 20% edges\n",
    "with the highest values.\n",
    "\n",
    "\n"
   ]
  },
  {
   "cell_type": "markdown",
   "metadata": {},
   "source": [
    "Retrieve the atlas and the data\n",
    "--------------------------------\n",
    "\n"
   ]
  },
  {
   "cell_type": "code",
<<<<<<< HEAD
   "execution_count": 1,
   "metadata": {},
   "outputs": [
    {
     "name": "stdout",
     "output_type": "stream",
     "text": [
      "\n",
      "Dataset created in /home/uga_qinglin/nilearn_data/msdl_atlas\n",
      "\n",
      "Downloading data from https://team.inria.fr/parietal/files/2015/01/MSDL_rois.zip ...\n"
     ]
    },
    {
     "name": "stderr",
     "output_type": "stream",
     "text": [
      "Downloaded 106496 of 209734 bytes (50.8%,    1.1s remaining)"
     ]
    },
    {
     "name": "stdout",
     "output_type": "stream",
     "text": [
      "First subject resting-state nifti image (4D) is located at: /home/uga_qinglin/nilearn_data/adhd/data/0010042/0010042_rest_tshift_RPI_voreg_mni.nii.gz\n"
     ]
    },
    {
     "name": "stderr",
     "output_type": "stream",
     "text": [
      "\r",
      "Downloaded 188416 of 209734 bytes (89.8%,    0.2s remaining)\r",
      "Downloaded 209734 of 209734 bytes (100.0%,    0.0s remaining) ...done. (2 seconds, 0 min)\n",
      "Extracting data from /home/uga_qinglin/nilearn_data/msdl_atlas/a28b0b24f45bf2f10e3b9d334ecbdf1a/MSDL_rois.zip..... done.\n",
      "/usr/local/lib/python2.7/dist-packages/numpy/lib/npyio.py:2278: VisibleDeprecationWarning: Reading unicode strings without specifying the encoding argument is deprecated. Set the encoding, use None for the system default.\n",
      "  output = genfromtxt(fname, **kwargs)\n",
      "/home/uga_qinglin/Documents/nilearn-deep/nilearn/datasets/func.py:502: VisibleDeprecationWarning: Reading unicode strings without specifying the encoding argument is deprecated. Set the encoding, use None for the system default.\n",
      "  dtype=None)\n"
     ]
    }
   ],
=======
   "execution_count": null,
   "metadata": {},
   "outputs": [],
>>>>>>> 87723de98c99942fa6c23ddc0e4e55c117aaa9fc
   "source": [
    "from nilearn import datasets\n",
    "atlas = datasets.fetch_atlas_msdl()\n",
    "# Loading atlas image stored in 'maps'\n",
    "atlas_filename = atlas['maps']\n",
    "# Loading atlas data stored in 'labels'\n",
    "labels = atlas['labels']\n",
    "\n",
    "# Load the functional datasets\n",
    "data = datasets.fetch_adhd(n_subjects=1)\n",
    "\n",
    "print('First subject resting-state nifti image (4D) is located at: %s' %\n",
    "      data.func[0])"
   ]
  },
  {
   "cell_type": "markdown",
   "metadata": {},
   "source": [
    "Extract the time series\n",
    "------------------------\n",
    "\n"
   ]
  },
  {
   "cell_type": "code",
   "execution_count": null,
   "metadata": {},
   "outputs": [],
   "source": [
    "from nilearn.input_data import NiftiMapsMasker\n",
    "masker = NiftiMapsMasker(maps_img=atlas_filename, standardize=True,\n",
    "                         memory='nilearn_cache', verbose=5)\n",
    "\n",
    "time_series = masker.fit_transform(data.func[0],\n",
    "                                   confounds=data.confounds)"
   ]
  },
  {
   "cell_type": "markdown",
   "metadata": {},
   "source": [
    "`time_series` is now a 2D matrix, of shape (number of time points x\n",
    "number of regions)\n",
    "\n"
   ]
  },
  {
   "cell_type": "code",
   "execution_count": null,
   "metadata": {},
   "outputs": [],
   "source": [
    "print(time_series.shape)"
   ]
  },
  {
   "cell_type": "markdown",
   "metadata": {},
   "source": [
    "Build and display a correlation matrix\n",
    "---------------------------------------\n",
    "\n"
   ]
  },
  {
   "cell_type": "code",
   "execution_count": null,
   "metadata": {},
   "outputs": [],
   "source": [
    "from nilearn.connectome import ConnectivityMeasure\n",
    "correlation_measure = ConnectivityMeasure(kind='correlation')\n",
    "correlation_matrix = correlation_measure.fit_transform([time_series])[0]\n",
    "\n",
    "# Display the correlation matrix\n",
    "import numpy as np\n",
    "from nilearn import plotting\n",
    "# Mask out the major diagonal\n",
    "np.fill_diagonal(correlation_matrix, 0)\n",
    "plotting.plot_matrix(correlation_matrix, labels=labels, colorbar=True,\n",
    "                     vmax=0.8, vmin=-0.8)"
   ]
  },
  {
   "cell_type": "markdown",
   "metadata": {},
   "source": [
    "And now display the corresponding graph\n",
    "----------------------------------------\n",
    "\n"
   ]
  },
  {
   "cell_type": "code",
   "execution_count": null,
   "metadata": {},
   "outputs": [],
   "source": [
    "from nilearn import plotting\n",
    "coords = atlas.region_coords\n",
    "\n",
    "# We threshold to keep only the 20% of edges with the highest value\n",
    "# because the graph is very dense\n",
    "plotting.plot_connectome(correlation_matrix, coords,\n",
    "                         edge_threshold=\"80%\", colorbar=True)\n",
    "\n",
    "plotting.show()"
   ]
  },
  {
   "cell_type": "markdown",
   "metadata": {},
   "source": [
    "3D visualization in a web browser\n",
    "---------------------------------\n",
    "An alternative to :func:`nilearn.plotting.plot_connectome` is to use\n",
    ":func:`nilearn.plotting.view_connectome` that gives more interactive\n",
    "visualizations in a web browser. See `interactive-connectome-plotting`\n",
    "for more details.\n",
    "\n"
   ]
  },
  {
   "cell_type": "code",
   "execution_count": null,
   "metadata": {},
   "outputs": [],
   "source": [
    "view = plotting.view_connectome(correlation_matrix, coords, threshold='80%')\n",
    "\n",
    "# uncomment this to open the plot in a web browser:\n",
    "# view.open_in_browser()"
   ]
  },
  {
   "cell_type": "markdown",
   "metadata": {},
   "source": [
    "In a Jupyter notebook, if ``view`` is the output of a cell, it will\n",
    "be displayed below the cell\n",
    "\n"
   ]
  },
  {
   "cell_type": "code",
   "execution_count": null,
   "metadata": {},
   "outputs": [],
   "source": [
    "view"
   ]
  }
 ],
 "metadata": {
  "kernelspec": {
   "display_name": "Python 2",
   "language": "python",
   "name": "python2"
  },
  "language_info": {
   "codemirror_mode": {
    "name": "ipython",
    "version": 2
   },
   "file_extension": ".py",
   "mimetype": "text/x-python",
   "name": "python",
   "nbconvert_exporter": "python",
   "pygments_lexer": "ipython2",
<<<<<<< HEAD
   "version": "2.7.12"
=======
   "version": "2.7.15"
>>>>>>> 87723de98c99942fa6c23ddc0e4e55c117aaa9fc
  }
 },
 "nbformat": 4,
 "nbformat_minor": 1
}
