{
 "cells": [
  {
   "cell_type": "code",
   "execution_count": 1,
   "metadata": {},
   "outputs": [],
   "source": [
    "%matplotlib inline"
   ]
  },
  {
   "cell_type": "markdown",
   "metadata": {},
   "source": [
    "\n",
    "Visualizing 4D probabilistic atlas maps\n",
    "=======================================\n",
    "\n",
    "This example shows how to visualize probabilistic atlases made of 4D images.\n",
    "There are 3 different display types:\n",
    "\n",
    "1. \"contours\", which means maps or ROIs are shown as contours delineated by     colored lines.\n",
    "\n",
    "2. \"filled_contours\", maps are shown as contours same as above but with     fillings inside the contours.\n",
    "\n",
    "3. \"continuous\", maps are shown as just color overlays.\n",
    "\n",
    "A colorbar can optionally be added.\n",
    "\n",
    "The :func:`nilearn.plotting.plot_prob_atlas` function displays each map\n",
    "with each different color which are picked randomly from the colormap\n",
    "which is already defined.\n",
    "\n",
    "See `plotting` for more information to know how to tune the parameters.\n",
    "\n"
   ]
  },
  {
   "cell_type": "code",
   "execution_count": 14,
   "metadata": {},
   "outputs": [
    {
     "name": "stdout",
     "output_type": "stream",
     "text": [
      "49\n",
      "['Background', 'Frontal Pole', 'Insular Cortex', 'Superior Frontal Gyrus', 'Middle Frontal Gyrus', 'Inferior Frontal Gyrus, pars triangularis', 'Inferior Frontal Gyrus, pars opercularis', 'Precentral Gyrus', 'Temporal Pole', 'Superior Temporal Gyrus, anterior division', 'Superior Temporal Gyrus, posterior division', 'Middle Temporal Gyrus, anterior division', 'Middle Temporal Gyrus, posterior division', 'Middle Temporal Gyrus, temporooccipital part', 'Inferior Temporal Gyrus, anterior division', 'Inferior Temporal Gyrus, posterior division', 'Inferior Temporal Gyrus, temporooccipital part', 'Postcentral Gyrus', 'Superior Parietal Lobule', 'Supramarginal Gyrus, anterior division', 'Supramarginal Gyrus, posterior division', 'Angular Gyrus', 'Lateral Occipital Cortex, superior division', 'Lateral Occipital Cortex, inferior division', 'Intracalcarine Cortex', 'Frontal Medial Cortex', 'Juxtapositional Lobule Cortex (formerly Supplementary Motor Cortex)', 'Subcallosal Cortex', 'Paracingulate Gyrus', 'Cingulate Gyrus, anterior division', 'Cingulate Gyrus, posterior division', 'Precuneous Cortex', 'Cuneal Cortex', 'Frontal Orbital Cortex', 'Parahippocampal Gyrus, anterior division', 'Parahippocampal Gyrus, posterior division', 'Lingual Gyrus', 'Temporal Fusiform Cortex, anterior division', 'Temporal Fusiform Cortex, posterior division', 'Temporal Occipital Fusiform Cortex', 'Occipital Fusiform Gyrus', 'Frontal Operculum Cortex', 'Central Opercular Cortex', 'Parietal Operculum Cortex', 'Planum Polare', \"Heschl's Gyrus (includes H1 and H2)\", 'Planum Temporale', 'Supracalcarine Cortex', 'Occipital Pole']\n",
      "['Background', 'Frontal Pole', 'Insular Cortex', 'Superior Frontal Gyrus', 'Middle Frontal Gyrus', 'Inferior Frontal Gyrus, pars triangularis', 'Inferior Frontal Gyrus, pars opercularis', 'Precentral Gyrus', 'Temporal Pole', 'Superior Temporal Gyrus, anterior division', 'Superior Temporal Gyrus, posterior division', 'Middle Temporal Gyrus, anterior division', 'Middle Temporal Gyrus, posterior division', 'Middle Temporal Gyrus, temporooccipital part', 'Inferior Temporal Gyrus, anterior division', 'Inferior Temporal Gyrus, posterior division', 'Inferior Temporal Gyrus, temporooccipital part', 'Postcentral Gyrus', 'Superior Parietal Lobule', 'Supramarginal Gyrus, anterior division', 'Supramarginal Gyrus, posterior division', 'Angular Gyrus', 'Lateral Occipital Cortex, superior division', 'Lateral Occipital Cortex, inferior division', 'Intracalcarine Cortex', 'Frontal Medial Cortex', 'Juxtapositional Lobule Cortex (formerly Supplementary Motor Cortex)', 'Subcallosal Cortex', 'Paracingulate Gyrus', 'Cingulate Gyrus, anterior division', 'Cingulate Gyrus, posterior division', 'Precuneous Cortex', 'Cuneal Cortex', 'Frontal Orbital Cortex', 'Parahippocampal Gyrus, anterior division', 'Parahippocampal Gyrus, posterior division', 'Lingual Gyrus', 'Temporal Fusiform Cortex, anterior division', 'Temporal Fusiform Cortex, posterior division', 'Temporal Occipital Fusiform Cortex', 'Occipital Fusiform Gyrus', 'Frontal Operculum Cortex', 'Central Opercular Cortex', 'Parietal Operculum Cortex', 'Planum Polare', \"Heschl's Gyrus (includes H1 and H2)\", 'Planum Temporale', 'Supracalcarine Cortex', 'Occipital Pole']\n",
      "['L Aud', 'R Aud', 'Striate', 'L DMN', 'Med DMN', 'Front DMN', 'R DMN', 'Occ post', 'Motor', 'R DLPFC', 'R Front pol', 'R Par', 'R Post Temp', 'Basal', 'L Par', 'L DLPFC', 'L Front pol', 'L IPS', 'R IPS', 'L LOC', 'Vis', 'R LOC', 'D ACC', 'V ACC', 'R A Ins', 'L STS', 'R STS', 'L TPJ', 'Broca', 'Sup Front S', 'R TPJ', 'R Pars Op', 'Cereb', 'Dors PCC', 'L Ins', 'Cing', 'R Ins', 'L Ant IPS', 'R Ant IPS']\n",
      "{'rsn10': '/home/uga_qinglin/nilearn_data/smith_2009/PNAS_Smith09_rsn10.nii.gz', 'rsn70': '/home/uga_qinglin/nilearn_data/smith_2009/rsn70.nii.gz', 'bm10': '/home/uga_qinglin/nilearn_data/smith_2009/PNAS_Smith09_bm10.nii.gz', 'bm20': '/home/uga_qinglin/nilearn_data/smith_2009/bm20.nii.gz', 'bm70': '/home/uga_qinglin/nilearn_data/smith_2009/bm70.nii.gz', 'description': b\"Smith 2009 Atlas\\n\\n\\nNotes\\n-----\\nThis atlas provides spatial maps of the major brain networks during task-constrained brain activity and task-unconstrained (resting) brain activity.\\n\\nThose were derived from 6 minutes of resting-state time series from 36 subjects as well as from the from the smoothed task activity coordinates of healthy subjects stored in the BrainMap database.\\n\\nContent\\n-------\\n    :'rsn20': 20 ICA maps derived from resting-state decomposition\\n    :'rsn10': 10 ICA maps from the above that matched across task and rest\\n    :'rsn70': 70 ICA maps derived from resting-state decomposition\\n    :'bm20': 20 ICA maps derived from decomposition BrainMap task data\\n    :'bm10': 10 ICA maps from the above that matched across task and rest\\n    :'bm70': 70 ICA maps derived from decomposition BrainMap task data\\n\\n\\nReferences\\n----------\\n\\nFor more information about this dataset's structure:\\nhttp://www.fmrib.ox.ac.uk/analysis/brainmap+rsns/\\n\\nS.M. Smith, P.T. Fox, K.L. Miller, D.C. Glahn, P.M. Fox, C.E. Mackay, N.\\nFilippini, K.E. Watkins, R. Toro, A.R. Laird, and C.F. Beckmann.\\nCorrespondence of the brain's functional architecture during activation and\\nrest. Proc Natl Acad Sci USA (PNAS), 106(31):13040-13045, 2009.\\n\\nA.R. Laird, P.M. Fox, S.B. Eickhoff, J.A. Turner, K.L. Ray, D.R. McKay, D.C\\nGlahn, C.F. Beckmann, S.M. Smith, and P.T. Fox. Behavioral interpretations\\nof intrinsic connectivity networks. Journal of Cognitive Neuroscience, 2011\\n\\nLicence: unknown.\", 'rsn20': '/home/uga_qinglin/nilearn_data/smith_2009/rsn20.nii.gz'}\n",
      "{'t2': '/home/uga_qinglin/nilearn_data/icbm152_2009/mni_icbm152_nlin_sym_09a/mni_icbm152_t2_tal_nlin_sym_09a.nii.gz', 't1': '/home/uga_qinglin/nilearn_data/icbm152_2009/mni_icbm152_nlin_sym_09a/mni_icbm152_t1_tal_nlin_sym_09a.nii.gz', 'face_mask': '/home/uga_qinglin/nilearn_data/icbm152_2009/mni_icbm152_nlin_sym_09a/mni_icbm152_t1_tal_nlin_sym_09a_face_mask.nii.gz', 'pd': '/home/uga_qinglin/nilearn_data/icbm152_2009/mni_icbm152_nlin_sym_09a/mni_icbm152_pd_tal_nlin_sym_09a.nii.gz', 'description': b'ICBM 152 Atlas\\n\\n\\nNotes\\n-----\\nReferences atlases intended for spatial normalization, registration, and\\nsegmentation of MRI data. These atlases were generated from large ensembles\\nof MRI data in an unbiased fashion. MRI data from templates are derived from\\n\"a truly normal, well characterized population.\"\\n\\n\\nContent\\n-------\\n    :\\'csf\\': probabilistic map for cerebrospinal fluid\\n    :\\'gm\\': probabilistic map for gray matter\\n    :\\'wm\\': probabilistic map for white matter\\n    :\\'pd\\': proton density-weighted anatomical templates (non-linear average)\\n    :\\'t1\\': T1-weighted anatomical template (non-linear average)\\n    :\\'t2\\': T2-weighted anatomical template (non-linear average)\\n    :\\'t2_relax\\': T2-weighted/relaxed anatomical template\\n    :\\'eye_mask\\': average mask for eyes\\n    :\\'face_mask\\': average mask for face\\n    :\\'mask\\': average mask for brain\\n\\n\\nReferences\\n----------\\nFor more information see:\\nhttp://www.bic.mni.mcgill.ca/ServicesAtlases/ICBM152NLin2009\\n\\nVS Fonov, AC Evans, K Botteron, CR Almli, RC McKinstry, DL Collins\\nand BDCG, \"Unbiased average age-appropriate atlases for pediatric studies\",\\nNeuroImage,Volume 54, Issue 1, January 2011\\n\\nVS Fonov, AC Evans, RC McKinstry, CR Almli and DL Collins,\\n\"Unbiased nonlinear average age-appropriate brain templates from birth\\nto adulthood\", NeuroImage, Volume 47, Supplement 1, July 2009, Page S102\\nOrganization for Human Brain Mapping 2009 Annual Meeting.\\n\\nDL Collins, AP Zijdenbos, WFC Baare and AC Evans,\\n\"ANIMAL+INSECT: Improved Cortical Structure Segmentation\",\\nIPMI Lecture Notes in Computer Science, 1999, Volume 1613/1999, 210-223\\n\\nLicence: unknown.\\n', 'gm': '/home/uga_qinglin/nilearn_data/icbm152_2009/mni_icbm152_nlin_sym_09a/mni_icbm152_gm_tal_nlin_sym_09a.nii.gz', 'mask': '/home/uga_qinglin/nilearn_data/icbm152_2009/mni_icbm152_nlin_sym_09a/mni_icbm152_t1_tal_nlin_sym_09a_mask.nii.gz', 'csf': '/home/uga_qinglin/nilearn_data/icbm152_2009/mni_icbm152_nlin_sym_09a/mni_icbm152_csf_tal_nlin_sym_09a.nii.gz', 't2_relax': '/home/uga_qinglin/nilearn_data/icbm152_2009/mni_icbm152_nlin_sym_09a/mni_icbm152_t2_relx_tal_nlin_sym_09a.nii.gz', 'wm': '/home/uga_qinglin/nilearn_data/icbm152_2009/mni_icbm152_nlin_sym_09a/mni_icbm152_wm_tal_nlin_sym_09a.nii.gz', 'eye_mask': '/home/uga_qinglin/nilearn_data/icbm152_2009/mni_icbm152_nlin_sym_09a/mni_icbm152_t1_tal_nlin_sym_09a_eye_mask.nii.gz'}\n",
      "{'rsn_indices': [('Basal Ganglia', [21]), ('Auditory', [17]), ('Sensorimotor', [7, 23, 24, 38, 56, 29]), ('Visual', [46, 64, 67, 48, 39, 59]), ('Default-Mode', [50, 53, 25, 68]), ('Attentional', [34, 60, 52, 72, 71, 55]), ('Frontal', [42, 20, 47, 49])], 'comps': '/home/uga_qinglin/nilearn_data/allen_rsn_2011/rest_hcp_agg__component_ica_.nii', 'networks': [['Basal Ganglia'], ['Auditory'], ['Sensorimotor', 'Sensorimotor', 'Sensorimotor', 'Sensorimotor', 'Sensorimotor', 'Sensorimotor'], ['Visual', 'Visual', 'Visual', 'Visual', 'Visual', 'Visual'], ['Default-Mode', 'Default-Mode', 'Default-Mode', 'Default-Mode'], ['Attentional', 'Attentional', 'Attentional', 'Attentional', 'Attentional', 'Attentional'], ['Frontal', 'Frontal', 'Frontal', 'Frontal']], 'rsn28': '/home/uga_qinglin/nilearn_data/allen_rsn_2011/RSN_HC_unthresholded_tmaps.nii', 'maps': '/home/uga_qinglin/nilearn_data/allen_rsn_2011/ALL_HC_unthresholded_tmaps.nii', 'description': b'Allen 2011\\n\\n\\nNotes\\n-----\\nCollection of resting-state network templates extracted from 600 healthy\\nsubjects fMRI data.\\n\\n\\nContent\\n-------\\n    :\"maps\": T-maps of all 75 unthresholded components.\\n    :\"rsn28\": T-maps of 28 RSNs included in E. Allen et al.\\n    :\"networks\": string list containing the names for the 28 RSNs.\\n    :\"rsn_indices\": dict[rsn_name] -> list of int, indices in the \"maps\"\\n                    file of the 28 RSNs.\\n    :\"comps\": The aggregate ICA Components.\\n\\nReferences\\n----------\\nFor more information on this dataset\\'s structure, see:\\nhttp://mialab.mrn.org/data/index.html\\n\\nResting state data from paper E. Allen, et al, \"A baseline for the multivariate\\ncomparison of resting state networks,\" Frontiers in Systems Neuroscience,\\nvol. 5, p. 12, 2011. http://dx.doi.org/10.3389/fnsys.2011.00002\\n\\nSlices and label of the RSN ICs:\\nhttp://www.frontiersin.org/files/Articles/2093/fnsys-05-00002-HTML/image_m/fnsys-05-00002-g004.jpg\\n\\nLicence: unknown.\\n'}\n",
      "16\n"
     ]
    },
    {
     "name": "stderr",
     "output_type": "stream",
     "text": [
      "/usr/local/lib/python3.5/dist-packages/numpy/lib/npyio.py:2278: VisibleDeprecationWarning: Reading unicode strings without specifying the encoding argument is deprecated. Set the encoding, use None for the system default.\n",
      "  output = genfromtxt(fname, **kwargs)\n"
     ]
    }
   ],
   "source": [
    "# Load 4D probabilistic atlases\n",
    "from nilearn import datasets\n",
    "\n",
    "# Harvard Oxford Atlasf\n",
    "harvard_oxford = datasets.fetch_atlas_harvard_oxford('cort-prob-2mm')\n",
    "print(len(harvard_oxford.labels))\n",
    "print((harvard_oxford.labels))\n",
    "\n",
    "harvard_oxford_sub = datasets.fetch_atlas_harvard_oxford('sub-prob-2mm')\n",
    "print((harvard_oxford.labels))\n",
    "\n",
    "# Multi Subject Dictionary Learning Atlas\n",
    "msdl_data = datasets.fetch_atlas_msdl()\n",
    "msdl_coords = msdl_data.region_coords\n",
    "n_regions = len(msdl_coords)\n",
    "print('MSDL has {0} ROIs, part of the following networks :\\n{1}.'.format(\n",
    "    n_regions, msdl_data.networks))\n",
    "\n",
    "# Smith ICA Atlas and Brain Maps 2009\n",
    "smith = datasets.fetch_atlas_smith_2009()\n",
    "print(smith)\n",
    "#print(len(smith.labels))\n",
    "\n",
    "# ICBM tissue probability\n",
    "icbm = datasets.fetch_icbm152_2009()\n",
    "print(icbm)\n",
    "#print(len(icbm.labels))\n",
    "\n",
    "# Allen RSN networks\n",
    "allen = datasets.fetch_atlas_allen_2011()\n",
    "print(allen)\n",
    "#print(len(allen.labels))\n",
    "\n",
    "# Pauli subcortical atlas\n",
    "subcortex = datasets.fetch_atlas_pauli_2017()\n",
    "print(len(subcortex.labels))\n"
   ]
  },
  {
   "cell_type": "code",
   "execution_count": null,
   "metadata": {},
   "outputs": [],
   "source": [
    "# Visualization\n",
    "from nilearn import plotting\n",
    "\n",
    "atlas_types = {'Harvard_Oxford': harvard_oxford.maps,\n",
    "               'Harvard_Oxford sub': harvard_oxford_sub.maps,\n",
    "               'MSDL': msdl.maps, 'Smith 2009 10 RSNs': smith.rsn10,\n",
    "               'Smith2009 20 RSNs': smith.rsn20,\n",
    "               'Smith2009 70 RSNs': smith.rsn70,\n",
    "               'Smith2009 20 Brainmap': smith.bm20,\n",
    "               'Smith2009 70 Brainmap': smith.bm70,\n",
    "               'ICBM tissues': (icbm['wm'], icbm['gm'], icbm['csf']),\n",
    "               'Allen2011': allen.rsn28,\n",
    "               'Pauli2017 Subcortical Atlas': subcortex.maps,\n",
    "               }\n",
    "\n",
    "for name, atlas in sorted(atlas_types.items()):\n",
    "    plotting.plot_prob_atlas(atlas, title=name)\n",
    "\n",
    "# An optional colorbar can be set\n",
    "plotting.plot_prob_atlas(smith.bm10, title='Smith2009 10 Brainmap (with'\n",
    "                                           ' colorbar)',\n",
    "                         colorbar=True)\n",
    "print('ready')\n",
    "plotting.show()"
   ]
  }
 ],
 "metadata": {
  "kernelspec": {
   "display_name": "Python 3",
   "language": "python",
   "name": "python3"
  },
  "language_info": {
   "codemirror_mode": {
    "name": "ipython",
    "version": 3
   },
   "file_extension": ".py",
   "mimetype": "text/x-python",
   "name": "python",
   "nbconvert_exporter": "python",
   "pygments_lexer": "ipython3",
   "version": "3.5.2"
  }
 },
 "nbformat": 4,
 "nbformat_minor": 1
}
