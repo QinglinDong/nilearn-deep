{
 "cells": [
  {
   "cell_type": "code",
   "execution_count": 1,
   "metadata": {},
   "outputs": [
    {
     "name": "stdout",
     "output_type": "stream",
     "text": [
      "\n",
      "Dataset created in /raid/nilearn_data/nyu_rest\n",
      "\n",
      "Downloading data from http://www.nitrc.org/frs/download.php/1071/NYU_TRT_session1a.tar.gz ...\n"
     ]
    },
    {
     "name": "stderr",
     "output_type": "stream",
     "text": [
      "Downloaded 697388519 of 697388519 bytes (100.0%,    0.0s remaining) ...done. (259 seconds, 4 min)\n",
      "Extracting data from /raid/nilearn_data/nyu_rest/60c7049328e46d00ffed0eb636e1da9c/session1/NYU_TRT_session1a.tar.gz..... done.\n"
     ]
    },
    {
     "name": "stdout",
     "output_type": "stream",
     "text": [
      "Downloading data from http://www.nitrc.org/frs/download.php/1072/NYU_TRT_session1b.tar.gz ...\n"
     ]
    },
    {
     "name": "stderr",
     "output_type": "stream",
     "text": [
      "Downloaded 653093650 of 653093650 bytes (100.0%,    0.0s remaining) ...done. (226 seconds, 3 min)\n",
      "Extracting data from /raid/nilearn_data/nyu_rest/60c7049328e46d00ffed0eb636e1da9c/session1/NYU_TRT_session1b.tar.gz..... done.\n"
     ]
    },
    {
     "name": "stdout",
     "output_type": "stream",
     "text": [
      "\n",
      "Dataset created in /raid/nilearn_data/nki_enhanced_surface\n",
      "\n",
      "Downloading data from https://www.nitrc.org/frs/download.php/8470/pheno_nki_nilearn.csv ...\n"
     ]
    },
    {
     "name": "stderr",
     "output_type": "stream",
     "text": [
      "\r",
      "Downloaded 2064 of 2064 bytes (100.0%,    0.0s remaining) ...done. (2 seconds, 0 min)\n"
     ]
    },
    {
     "name": "stdout",
     "output_type": "stream",
     "text": [
      "Downloading data from https://www.nitrc.org/frs/download.php/8260/A00028185_rh_preprocessed_fsaverage5_fwhm6.gii ...\n"
     ]
    },
    {
     "name": "stderr",
     "output_type": "stream",
     "text": [
      "Downloaded 42402060 of 42402060 bytes (100.0%,    0.0s remaining) ...done. (19 seconds, 0 min)\n"
     ]
    },
    {
     "name": "stdout",
     "output_type": "stream",
     "text": [
      "Downloading data from https://www.nitrc.org/frs/download.php/8260/A00028185_lh_preprocessed_fsaverage5_fwhm6.gii ...\n"
     ]
    },
    {
     "name": "stderr",
     "output_type": "stream",
     "text": [
      "Downloaded 42402060 of 42402060 bytes (100.0%,    0.0s remaining) ...done. (19 seconds, 0 min)\n"
     ]
    },
    {
     "name": "stdout",
     "output_type": "stream",
     "text": [
      "Downloading data from https://www.nitrc.org/frs/download.php/8261/A00033747_rh_preprocessed_fsaverage5_fwhm6.gii ...\n"
     ]
    },
    {
     "name": "stderr",
     "output_type": "stream",
     "text": [
      "Downloaded 42412120 of 42412120 bytes (100.0%,    0.0s remaining) ...done. (16 seconds, 0 min)\n"
     ]
    },
    {
     "name": "stdout",
     "output_type": "stream",
     "text": [
      "Downloading data from https://www.nitrc.org/frs/download.php/8261/A00033747_lh_preprocessed_fsaverage5_fwhm6.gii ...\n"
     ]
    },
    {
     "name": "stderr",
     "output_type": "stream",
     "text": [
      "Downloaded 42412120 of 42412120 bytes (100.0%,    0.0s remaining) ...done. (16 seconds, 0 min)\n"
     ]
    },
    {
     "name": "stdout",
     "output_type": "stream",
     "text": [
      "Downloading data from https://www.nitrc.org/frs/download.php/8262/A00035072_rh_preprocessed_fsaverage5_fwhm6.gii ...\n"
     ]
    },
    {
     "name": "stderr",
     "output_type": "stream",
     "text": [
      "Downloaded 42406508 of 42406508 bytes (100.0%,    0.0s remaining) ...done. (19 seconds, 0 min)\n"
     ]
    },
    {
     "name": "stdout",
     "output_type": "stream",
     "text": [
      "Downloading data from https://www.nitrc.org/frs/download.php/8262/A00035072_lh_preprocessed_fsaverage5_fwhm6.gii ...\n"
     ]
    },
    {
     "name": "stderr",
     "output_type": "stream",
     "text": [
      "Downloaded 42406508 of 42406508 bytes (100.0%,    0.0s remaining) ...done. (16 seconds, 0 min)\n"
     ]
    },
    {
     "name": "stdout",
     "output_type": "stream",
     "text": [
      "Downloading data from https://www.nitrc.org/frs/download.php/8263/A00035827_rh_preprocessed_fsaverage5_fwhm6.gii ...\n"
     ]
    },
    {
     "name": "stderr",
     "output_type": "stream",
     "text": [
      "Downloaded 42437884 of 42437884 bytes (100.0%,    0.0s remaining) ...done. (15 seconds, 0 min)\n"
     ]
    },
    {
     "name": "stdout",
     "output_type": "stream",
     "text": [
      "Downloading data from https://www.nitrc.org/frs/download.php/8263/A00035827_lh_preprocessed_fsaverage5_fwhm6.gii ...\n"
     ]
    },
    {
     "name": "stderr",
     "output_type": "stream",
     "text": [
      "Downloaded 42437884 of 42437884 bytes (100.0%,    0.0s remaining) ...done. (16 seconds, 0 min)\n"
     ]
    },
    {
     "name": "stdout",
     "output_type": "stream",
     "text": [
      "Downloading data from https://www.nitrc.org/frs/download.php/8264/A00035840_rh_preprocessed_fsaverage5_fwhm6.gii ...\n"
     ]
    },
    {
     "name": "stderr",
     "output_type": "stream",
     "text": [
      "Downloaded 42407636 of 42407636 bytes (100.0%,    0.0s remaining) ...done. (17 seconds, 0 min)\n"
     ]
    },
    {
     "name": "stdout",
     "output_type": "stream",
     "text": [
      "Downloading data from https://www.nitrc.org/frs/download.php/8264/A00035840_lh_preprocessed_fsaverage5_fwhm6.gii ...\n"
     ]
    },
    {
     "name": "stderr",
     "output_type": "stream",
     "text": [
      "Downloaded 42407636 of 42407636 bytes (100.0%,    0.0s remaining) ...done. (17 seconds, 0 min)\n"
     ]
    },
    {
     "name": "stdout",
     "output_type": "stream",
     "text": [
      "Downloading data from https://www.nitrc.org/frs/download.php/8265/A00037112_rh_preprocessed_fsaverage5_fwhm6.gii ...\n"
     ]
    },
    {
     "name": "stderr",
     "output_type": "stream",
     "text": [
      "Downloaded 42448924 of 42448924 bytes (100.0%,    0.0s remaining) ...done. (19 seconds, 0 min)\n"
     ]
    },
    {
     "name": "stdout",
     "output_type": "stream",
     "text": [
      "Downloading data from https://www.nitrc.org/frs/download.php/8265/A00037112_lh_preprocessed_fsaverage5_fwhm6.gii ...\n"
     ]
    },
    {
     "name": "stderr",
     "output_type": "stream",
     "text": [
      "Downloaded 42448924 of 42448924 bytes (100.0%,    0.0s remaining) ...done. (16 seconds, 0 min)\n"
     ]
    },
    {
     "name": "stdout",
     "output_type": "stream",
     "text": [
      "Downloading data from https://www.nitrc.org/frs/download.php/8266/A00037511_rh_preprocessed_fsaverage5_fwhm6.gii ...\n"
     ]
    },
    {
     "name": "stderr",
     "output_type": "stream",
     "text": [
      "Downloaded 42388496 of 42388496 bytes (100.0%,    0.0s remaining) ...done. (18 seconds, 0 min)\n"
     ]
    },
    {
     "name": "stdout",
     "output_type": "stream",
     "text": [
      "Downloading data from https://www.nitrc.org/frs/download.php/8266/A00037511_lh_preprocessed_fsaverage5_fwhm6.gii ...\n"
     ]
    },
    {
     "name": "stderr",
     "output_type": "stream",
     "text": [
      "Downloaded 42388496 of 42388496 bytes (100.0%,    0.0s remaining) ...done. (16 seconds, 0 min)\n"
     ]
    },
    {
     "name": "stdout",
     "output_type": "stream",
     "text": [
      "Downloading data from https://www.nitrc.org/frs/download.php/8267/A00038998_rh_preprocessed_fsaverage5_fwhm6.gii ...\n"
     ]
    },
    {
     "name": "stderr",
     "output_type": "stream",
     "text": [
      "Downloaded 42421928 of 42421928 bytes (100.0%,    0.0s remaining) ...done. (15 seconds, 0 min)\n"
     ]
    },
    {
     "name": "stdout",
     "output_type": "stream",
     "text": [
      "Downloading data from https://www.nitrc.org/frs/download.php/8267/A00038998_lh_preprocessed_fsaverage5_fwhm6.gii ...\n"
     ]
    },
    {
     "name": "stderr",
     "output_type": "stream",
     "text": [
      "Downloaded 42421928 of 42421928 bytes (100.0%,    0.0s remaining) ...done. (18 seconds, 0 min)\n"
     ]
    },
    {
     "name": "stdout",
     "output_type": "stream",
     "text": [
      "Downloading data from https://www.nitrc.org/frs/download.php/8268/A00039391_rh_preprocessed_fsaverage5_fwhm6.gii ...\n"
     ]
    },
    {
     "name": "stderr",
     "output_type": "stream",
     "text": [
      "Downloaded 42210360 of 42210360 bytes (100.0%,    0.0s remaining) ...done. (16 seconds, 0 min)\n"
     ]
    },
    {
     "name": "stdout",
     "output_type": "stream",
     "text": [
      "Downloading data from https://www.nitrc.org/frs/download.php/8268/A00039391_lh_preprocessed_fsaverage5_fwhm6.gii ...\n"
     ]
    },
    {
     "name": "stderr",
     "output_type": "stream",
     "text": [
      "Downloaded 42210360 of 42210360 bytes (100.0%,    0.0s remaining) ...done. (17 seconds, 0 min)\n"
     ]
    },
    {
     "name": "stdout",
     "output_type": "stream",
     "text": [
      "Downloading data from https://www.nitrc.org/frs/download.php/8269/A00039431_rh_preprocessed_fsaverage5_fwhm6.gii ...\n"
     ]
    },
    {
     "name": "stderr",
     "output_type": "stream",
     "text": [
      "Downloaded 42192604 of 42192604 bytes (100.0%,    0.0s remaining) ...done. (17 seconds, 0 min)\n"
     ]
    },
    {
     "name": "stdout",
     "output_type": "stream",
     "text": [
      "Downloading data from https://www.nitrc.org/frs/download.php/8269/A00039431_lh_preprocessed_fsaverage5_fwhm6.gii ...\n"
     ]
    },
    {
     "name": "stderr",
     "output_type": "stream",
     "text": [
      "Downloaded 42192604 of 42192604 bytes (100.0%,    0.0s remaining) ...done. (19 seconds, 0 min)\n"
     ]
    },
    {
     "name": "stdout",
     "output_type": "stream",
     "text": [
      "\n",
      "Dataset created in /raid/nilearn_data/oasis1\n",
      "\n",
      "Downloading data from https://www.nitrc.org/frs/download.php/6364/archive_dartel.tgz ...\n"
     ]
    },
    {
     "name": "stderr",
     "output_type": "stream",
     "text": [
      "Downloaded 905208634 of 905208634 bytes (100.0%,    0.0s remaining) ...done. (344 seconds, 5 min)\n",
      "Extracting data from /raid/nilearn_data/oasis1/7208e4b7c1388cf739f1964f85953d8d/archive_dartel.tgz..... done.\n",
      "/usr/local/lib/python2.7/dist-packages/numpy/lib/npyio.py:2278: VisibleDeprecationWarning: Reading unicode strings without specifying the encoding argument is deprecated. Set the encoding, use None for the system default.\n",
      "  output = genfromtxt(fname, **kwargs)\n"
     ]
    },
    {
     "name": "stdout",
     "output_type": "stream",
     "text": [
      "\n",
      "Dataset created in /raid/nilearn_data/cobre\n",
      "\n",
      "Downloading data from https://api.figshare.com/v2/articles/4197885 ...\n"
     ]
    },
    {
     "name": "stderr",
     "output_type": "stream",
     "text": [
      "\r",
      "Downloaded 87628 of 87628 bytes (100.0%,    0.0s remaining) ...done. (2 seconds, 0 min)\n"
     ]
    },
    {
     "name": "stdout",
     "output_type": "stream",
     "text": [
      "Downloading data from https://ndownloader.figshare.com/files/6849063 ...\n"
     ]
    },
    {
     "name": "stderr",
     "output_type": "stream",
     "text": [
      "\r",
      "Downloaded 2239 of 2239 bytes (100.0%,    0.0s remaining) ...done. (1 seconds, 0 min)\n",
      "Extracting data from /raid/nilearn_data/cobre/5575ee825ea3475213519e978e8a957e/phenotypic_data.tsv.gz..... done.\n"
     ]
    },
    {
     "name": "stdout",
     "output_type": "stream",
     "text": [
      "Downloading data from https://ndownloader.figshare.com/files/6848454 ...\n"
     ]
    },
    {
     "name": "stderr",
     "output_type": "stream",
     "text": [
      "Downloaded 4575042 of 4575042 bytes (100.0%,    0.0s remaining) ...done. (5 seconds, 0 min)\n"
     ]
    },
    {
     "name": "stdout",
     "output_type": "stream",
     "text": [
      "Downloading data from https://ndownloader.figshare.com/files/6848457 ...\n"
     ]
    },
    {
     "name": "stderr",
     "output_type": "stream",
     "text": [
      "\r",
      "Downloaded 24172 of 24172 bytes (100.0%,    0.0s remaining) ...done. (1 seconds, 0 min)\n",
      "Extracting data from /raid/nilearn_data/cobre/45fe4d346c27123936706e0a26b62fe2/fmri_0040046.tsv.gz..... done.\n"
     ]
    },
    {
     "name": "stdout",
     "output_type": "stream",
     "text": [
      "Downloading data from https://ndownloader.figshare.com/files/6848190 ...\n"
     ]
    },
    {
     "name": "stderr",
     "output_type": "stream",
     "text": [
      "Downloaded 4479849 of 4479849 bytes (100.0%,    0.0s remaining) ...done. (5 seconds, 0 min)\n"
     ]
    },
    {
     "name": "stdout",
     "output_type": "stream",
     "text": [
      "Downloading data from https://ndownloader.figshare.com/files/6848193 ...\n"
     ]
    },
    {
     "name": "stderr",
     "output_type": "stream",
     "text": [
      "\r",
      "Downloaded 24103 of 24103 bytes (100.0%,    0.0s remaining) ...done. (1 seconds, 0 min)\n",
      "Extracting data from /raid/nilearn_data/cobre/f1f8ff908c5f64540384115cc2b01d7c/fmri_0040002.tsv.gz..... done.\n"
     ]
    },
    {
     "name": "stdout",
     "output_type": "stream",
     "text": [
      "Downloading data from https://ndownloader.figshare.com/files/6848868 ...\n"
     ]
    },
    {
     "name": "stderr",
     "output_type": "stream",
     "text": [
      "Downloaded 4446722 of 4446722 bytes (100.0%,    0.0s remaining) ...done. (7 seconds, 0 min)\n"
     ]
    },
    {
     "name": "stdout",
     "output_type": "stream",
     "text": [
      "Downloading data from https://ndownloader.figshare.com/files/6848871 ...\n"
     ]
    },
    {
     "name": "stderr",
     "output_type": "stream",
     "text": [
      "\r",
      "Downloaded 23998 of 23998 bytes (100.0%,    0.0s remaining) ...done. (1 seconds, 0 min)\n",
      "Extracting data from /raid/nilearn_data/cobre/3f77f72c5d9ec9c8e9c17e23be4b5876/fmri_0040117.tsv.gz..... done.\n"
     ]
    },
    {
     "name": "stdout",
     "output_type": "stream",
     "text": [
      "Downloading data from https://ndownloader.figshare.com/files/6849036 ...\n"
     ]
    },
    {
     "name": "stderr",
     "output_type": "stream",
     "text": [
      "Downloaded 4614105 of 4614105 bytes (100.0%,    0.0s remaining) ...done. (5 seconds, 0 min)\n"
     ]
    },
    {
     "name": "stdout",
     "output_type": "stream",
     "text": [
      "Downloading data from https://ndownloader.figshare.com/files/6849039 ...\n"
     ]
    },
    {
     "name": "stderr",
     "output_type": "stream",
     "text": [
      "\r",
      "Downloaded 23920 of 23920 bytes (100.0%,    0.0s remaining) ...done. (1 seconds, 0 min)\n",
      "Extracting data from /raid/nilearn_data/cobre/196d140dd28dfdf01ee19c2c68f44dc0/fmri_0040145.tsv.gz..... done.\n"
     ]
    },
    {
     "name": "stdout",
     "output_type": "stream",
     "text": [
      "Downloading data from https://ndownloader.figshare.com/files/6848178 ...\n"
     ]
    },
    {
     "name": "stderr",
     "output_type": "stream",
     "text": [
      "Downloaded 4560443 of 4560443 bytes (100.0%,    0.0s remaining) ...done. (7 seconds, 0 min)\n"
     ]
    },
    {
     "name": "stdout",
     "output_type": "stream",
     "text": [
      "Downloading data from https://ndownloader.figshare.com/files/6848181 ...\n"
     ]
    },
    {
     "name": "stderr",
     "output_type": "stream",
     "text": [
      "Downloaded 23847 of 23847 bytes (100.0%,    0.0s remaining) ...done. (1 seconds, 0 min)\n",
      "Extracting data from /raid/nilearn_data/cobre/7001f1f9f66512dd0920f309c55ba9bc/fmri_0040000.tsv.gz..... done.\n"
     ]
    },
    {
     "name": "stdout",
     "output_type": "stream",
     "text": [
      "Downloading data from https://ndownloader.figshare.com/files/6848544 ...\n"
     ]
    },
    {
     "name": "stderr",
     "output_type": "stream",
     "text": [
      "Downloaded 4647995 of 4647995 bytes (100.0%,    0.0s remaining) ...done. (8 seconds, 0 min)\n"
     ]
    },
    {
     "name": "stdout",
     "output_type": "stream",
     "text": [
      "Downloading data from https://ndownloader.figshare.com/files/6848547 ...\n"
     ]
    },
    {
     "name": "stderr",
     "output_type": "stream",
     "text": [
      "\r",
      "Downloaded 24099 of 24099 bytes (100.0%,    0.0s remaining) ...done. (1 seconds, 0 min)\n",
      "Extracting data from /raid/nilearn_data/cobre/cdb26eb7fdf2856ef6ccd6375f6b8636/fmri_0040061.tsv.gz..... done.\n"
     ]
    },
    {
     "name": "stdout",
     "output_type": "stream",
     "text": [
      "Downloading data from https://ndownloader.figshare.com/files/6848706 ...\n"
     ]
    },
    {
     "name": "stderr",
     "output_type": "stream",
     "text": [
      "Downloaded 4595137 of 4595137 bytes (100.0%,    0.0s remaining) ...done. (5 seconds, 0 min)\n"
     ]
    },
    {
     "name": "stdout",
     "output_type": "stream",
     "text": [
      "Downloading data from https://ndownloader.figshare.com/files/6848709 ...\n"
     ]
    },
    {
     "name": "stderr",
     "output_type": "stream",
     "text": [
      "\r",
      "Downloaded 23958 of 23958 bytes (100.0%,    0.0s remaining) ...done. (1 seconds, 0 min)\n",
      "Extracting data from /raid/nilearn_data/cobre/aac78bed2441add3c077dee31cbfefc7/fmri_0040090.tsv.gz..... done.\n"
     ]
    },
    {
     "name": "stdout",
     "output_type": "stream",
     "text": [
      "Downloading data from https://ndownloader.figshare.com/files/6848844 ...\n"
     ]
    },
    {
     "name": "stderr",
     "output_type": "stream",
     "text": [
      "Downloaded 4593987 of 4593987 bytes (100.0%,    0.0s remaining) ...done. (11 seconds, 0 min)\n"
     ]
    },
    {
     "name": "stdout",
     "output_type": "stream",
     "text": [
      "Downloading data from https://ndownloader.figshare.com/files/6848847 ...\n"
     ]
    },
    {
     "name": "stderr",
     "output_type": "stream",
     "text": [
      "\r",
      "Downloaded 23936 of 23936 bytes (100.0%,    0.0s remaining) ...done. (1 seconds, 0 min)\n",
      "Extracting data from /raid/nilearn_data/cobre/29ab4c7a1cbfc4914d6df23409211016/fmri_0040113.tsv.gz..... done.\n"
     ]
    },
    {
     "name": "stdout",
     "output_type": "stream",
     "text": [
      "Downloading data from https://ndownloader.figshare.com/files/6848892 ...\n"
     ]
    },
    {
     "name": "stderr",
     "output_type": "stream",
     "text": [
      "Downloaded 4525595 of 4525595 bytes (100.0%,    0.0s remaining) ...done. (10 seconds, 0 min)\n"
     ]
    },
    {
     "name": "stdout",
     "output_type": "stream",
     "text": [
      "Downloading data from https://ndownloader.figshare.com/files/6848895 ...\n"
     ]
    },
    {
     "name": "stderr",
     "output_type": "stream",
     "text": [
      "\r",
      "Downloaded 16384 of 24037 bytes (68.2%,    1.0s remaining)\r",
      "Downloaded 24037 of 24037 bytes (100.0%,    0.0s remaining) ...done. (3 seconds, 0 min)\n",
      "Extracting data from /raid/nilearn_data/cobre/a77c44e105b23637e46366562e7b0a47/fmri_0040121.tsv.gz..... done.\n"
     ]
    },
    {
     "name": "stdout",
     "output_type": "stream",
     "text": [
      "Downloading data from https://ndownloader.figshare.com/files/6848298 ...\n"
     ]
    },
    {
     "name": "stderr",
     "output_type": "stream",
     "text": [
      "Downloaded 4551063 of 4551063 bytes (100.0%,    0.0s remaining) ...done. (4 seconds, 0 min)\n"
     ]
    },
    {
     "name": "stdout",
     "output_type": "stream",
     "text": [
      "Downloading data from https://ndownloader.figshare.com/files/6848301 ...\n"
     ]
    },
    {
     "name": "stderr",
     "output_type": "stream",
     "text": [
      "\r",
      "Downloaded 23924 of 23924 bytes (100.0%,    0.0s remaining) ...done. (1 seconds, 0 min)\n",
      "Extracting data from /raid/nilearn_data/cobre/a218b2e2cb6d1d85bcc9aec488e785c9/fmri_0040020.tsv.gz..... done.\n"
     ]
    },
    {
     "name": "stdout",
     "output_type": "stream",
     "text": [
      "Downloading data from https://ndownloader.figshare.com/files/6849054 ...\n"
     ]
    },
    {
     "name": "stderr",
     "output_type": "stream",
     "text": [
      "\r",
      "Downloaded 1543 of 1543 bytes (100.0%,    0.0s remaining) ...done. (4 seconds, 0 min)\n"
     ]
    },
    {
     "name": "stdout",
     "output_type": "stream",
     "text": [
      "Downloading data from https://ndownloader.figshare.com/files/6849057 ...\n"
     ]
    },
    {
     "name": "stderr",
     "output_type": "stream",
     "text": [
      "\r",
      "Downloaded 1268 of 1268 bytes (100.0%,    0.0s remaining) ...done. (1 seconds, 0 min)\n"
     ]
    }
   ],
   "source": [
    "from nilearn import datasets\n",
    "dir='/raid/nilearn_data'\n",
    "#adhd_dataset = datasets.fetch_adhd(data_dir=dir)\n",
    "#adhd_dataset = datasets.fetch_abide_pcp(data_dir=dir)\n",
    "#adhd_dataset = datasets.fetch_haxby(data_dir=dir)\n",
    "#adhd_dataset = datasets.fetch_localizer_contrasts(data_dir=dir)\n",
    "adhd_dataset = datasets.fetch_nyu_rest(data_dir=dir)\n",
    "adhd_dataset = datasets.fetch_surf_nki_enhanced(data_dir=dir)\n",
    "adhd_dataset = datasets.fetch_oasis_vbm(data_dir=dir)\n",
    "adhd_dataset = datasets.fetch_cobre(data_dir=dir)"
   ]
  },
  {
   "cell_type": "code",
   "execution_count": null,
   "metadata": {},
   "outputs": [],
   "source": []
  }
 ],
 "metadata": {
  "kernelspec": {
   "display_name": "Python 3",
   "language": "python",
   "name": "python3"
  },
  "language_info": {
   "codemirror_mode": {
    "name": "ipython",
    "version": 3
   },
   "file_extension": ".py",
   "mimetype": "text/x-python",
   "name": "python",
   "nbconvert_exporter": "python",
   "pygments_lexer": "ipython3",
   "version": "3.5.2"
  }
 },
 "nbformat": 4,
 "nbformat_minor": 2
}
