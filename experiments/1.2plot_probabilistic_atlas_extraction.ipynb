{
 "cells": [
  {
   "cell_type": "code",
   "execution_count": null,
   "metadata": {},
   "outputs": [],
   "source": [
    "%matplotlib inline"
   ]
  },
  {
   "cell_type": "markdown",
   "metadata": {},
   "source": [
    "\n",
    "Extracting signals of a probabilistic atlas of rest functional regions\n",
    "========================================================================\n",
    "\n",
    "This example extracts the signal on regions defined via a probabilistic\n",
    "atlas, to construct a functional connectome.\n",
    "\n",
    "We use the `MSDL atlas\n",
    "<https://team.inria.fr/parietal/18-2/spatial_patterns/spatial-patterns-in-resting-state/>`_\n",
    "of functional regions in rest.\n",
    "\n",
    "The key to extract signals is to use the\n",
    ":class:`nilearn.input_data.NiftiMapsMasker` that can transform nifti\n",
    "objects to time series using a probabilistic atlas.\n",
    "\n",
    "As the MSDL atlas comes with (x, y, z) MNI coordinates for the different\n",
    "regions, we can visualize the matrix as a graph of interaction in a\n",
    "brain. To avoid having too dense a graph, we represent only the 20% edges\n",
    "with the highest values.\n",
    "\n",
    "\n"
   ]
  },
  {
   "cell_type": "markdown",
   "metadata": {},
   "source": [
    "Retrieve the atlas and the data\n",
    "--------------------------------\n",
    "\n"
   ]
  },
  {
   "cell_type": "code",
   "execution_count": 4,
   "metadata": {},
   "outputs": [
    {
     "name": "stdout",
     "output_type": "stream",
     "text": [
      "First subject resting-state nifti image (4D) is located at: /home/uga_qinglin/nilearn_data/adhd/data/0010042/0010042_rest_tshift_RPI_voreg_mni.nii.gz\n"
     ]
    },
    {
     "name": "stderr",
     "output_type": "stream",
     "text": [
      "/home/uga_qinglin/Documents/nilearn-deep/nilearn/datasets/func.py:502: VisibleDeprecationWarning: Reading unicode strings without specifying the encoding argument is deprecated. Set the encoding, use None for the system default.\n",
      "  dtype=None)\n"
     ]
    }
   ],
   "source": [
    "from nilearn import datasets\n",
    "\n",
    "# Load the functional datasets\n",
    "data = datasets.fetch_adhd(n_subjects=1)\n",
    "\n",
    "print('First subject resting-state nifti image (4D) is located at: %s' %\n",
    "      data.func[0])"
   ]
  },
  {
   "cell_type": "markdown",
   "metadata": {},
   "source": [
    "Extract the time series\n",
    "------------------------\n",
    "\n"
   ]
  },
  {
   "cell_type": "code",
   "execution_count": 5,
   "metadata": {},
   "outputs": [
    {
     "name": "stdout",
     "output_type": "stream",
     "text": [
      "[NiftiMapsMasker.fit_transform] loading regions from /home/uga_qinglin/Documents/nilearn-deep/experiments/canica_resting_state.nii.gz\n"
     ]
    },
    {
     "name": "stderr",
     "output_type": "stream",
     "text": [
      "/home/uga_qinglin/Documents/nilearn-deep/nilearn/_utils/cache_mixin.py:291: UserWarning: memory_level is currently set to 0 but a Memory object has been provided. Setting memory_level to 1.\n",
      "  warnings.warn(\"memory_level is currently set to 0 but \"\n"
     ]
    },
    {
     "name": "stdout",
     "output_type": "stream",
     "text": [
      "________________________________________________________________________________\n",
      "[Memory] Calling nilearn.input_data.base_masker.filter_and_extract...\n",
      "filter_and_extract('/home/uga_qinglin/nilearn_data/adhd/data/0010042/0010042_rest_tshift_RPI_voreg_mni.nii.gz', \n",
      "<nilearn.input_data.nifti_maps_masker._ExtractionFunctor object at 0x7f527441d590>, \n",
      "{ 'allow_overlap': True,\n",
      "  'detrend': False,\n",
      "  'high_pass': None,\n",
      "  'low_pass': None,\n",
      "  'maps_img': '/home/uga_qinglin/Documents/nilearn-deep/experiments/canica_resting_state.nii.gz',\n",
      "  'mask_img': None,\n",
      "  'smoothing_fwhm': None,\n",
      "  'standardize': True,\n",
      "  't_r': None,\n",
      "  'target_affine': None,\n",
      "  'target_shape': None}, confounds=['/home/uga_qinglin/nilearn_data/adhd/data/0010042/0010042_regressors.csv'], memory_level=1, verbose=5, memory=Memory(location=nilearn_cache/joblib))\n",
      "[NiftiMapsMasker.transform_single_imgs] Loading data from /home/uga_qinglin/nilearn_data/adhd/data/0010042/0010042_rest_tshift_RPI_voreg_mni.nii.gz\n",
      "[NiftiMapsMasker.transform_single_imgs] Extracting region signals\n",
      "[NiftiMapsMasker.transform_single_imgs] Cleaning extracted signals\n",
      "_______________________________________________filter_and_extract - 3.4s, 0.1min\n"
     ]
    }
   ],
   "source": [
    "from nilearn.input_data import NiftiMapsMasker\n",
    "masker = NiftiMapsMasker(maps_img='/home/uga_qinglin/Documents/nilearn-deep/experiments/canica_resting_state.nii.gz', standardize=True,\n",
    "                         memory='nilearn_cache', verbose=5)\n",
    "\n",
    "time_series = masker.fit_transform(data.func[0],\n",
    "                                   confounds=data.confounds)"
   ]
  },
  {
   "cell_type": "markdown",
   "metadata": {},
   "source": [
    "`time_series` is now a 2D matrix, of shape (number of time points x\n",
    "number of regions)\n",
    "\n"
   ]
  },
  {
   "cell_type": "code",
   "execution_count": 6,
   "metadata": {},
   "outputs": [
    {
     "name": "stdout",
     "output_type": "stream",
     "text": [
      "(176, 20)\n"
     ]
    }
   ],
   "source": [
    "print(time_series.shape)"
   ]
  },
  {
   "cell_type": "markdown",
   "metadata": {},
   "source": [
    "Build and display a correlation matrix\n",
    "---------------------------------------\n",
    "\n"
   ]
  },
  {
   "cell_type": "code",
   "execution_count": 8,
   "metadata": {},
   "outputs": [
    {
     "data": {
      "text/plain": [
       "<matplotlib.image.AxesImage at 0x7f5270200cd0>"
      ]
     },
     "execution_count": 8,
     "metadata": {},
     "output_type": "execute_result"
    },
    {
     "data": {
      "image/png": "[encoded data removed]",
      "text/plain": [
       "<Figure size 504x360 with 2 Axes>"
      ]
     },
     "metadata": {
      "needs_background": "light"
     },
     "output_type": "display_data"
    }
   ],
   "source": [
    "from nilearn.connectome import ConnectivityMeasure\n",
    "correlation_measure = ConnectivityMeasure(kind='correlation')\n",
    "correlation_matrix = correlation_measure.fit_transform([time_series])[0]\n",
    "\n",
    "# Display the correlation matrix\n",
    "import numpy as np\n",
    "from nilearn import plotting\n",
    "# Mask out the major diagonal\n",
    "np.fill_diagonal(correlation_matrix, 0)\n",
    "plotting.plot_matrix(correlation_matrix, labels=None, colorbar=True,\n",
    "                     vmax=0.8, vmin=-0.8)"
   ]
  },
  {
   "cell_type": "markdown",
   "metadata": {},
   "source": [
    "And now display the corresponding graph\n",
    "----------------------------------------\n",
    "\n"
   ]
  },
  {
   "cell_type": "code",
   "execution_count": 17,
   "metadata": {},
   "outputs": [
    {
     "ename": "ImportError",
     "evalue": "cannot import name find_probabilistic_atlas_cut_coords",
     "output_type": "error",
     "traceback": [
      "\u001b[0;31m---------------------------------------------------------------------------\u001b[0m",
      "\u001b[0;31mImportError\u001b[0m                               Traceback (most recent call last)",
      "\u001b[0;32m<ipython-input-17-fb96e4826282>\u001b[0m in \u001b[0;36m<module>\u001b[0;34m()\u001b[0m\n\u001b[0;32m----> 1\u001b[0;31m \u001b[0;32mfrom\u001b[0m \u001b[0mnilearn\u001b[0m\u001b[0;34m.\u001b[0m\u001b[0mplotting\u001b[0m \u001b[0;32mimport\u001b[0m \u001b[0mfind_probabilistic_atlas_cut_coords\u001b[0m\u001b[0;34m\u001b[0m\u001b[0m\n\u001b[0m\u001b[1;32m      2\u001b[0m \u001b[0matlas_region_coords\u001b[0m\u001b[0;34m=\u001b[0m\u001b[0mplotting\u001b[0m\u001b[0;34m.\u001b[0m\u001b[0mfind_probabilistic_atlas_cut_coords\u001b[0m\u001b[0;34m(\u001b[0m\u001b[0;34m'/home/uga_qinglin/Documents/nilearn-deep/experiments/canica_resting_state.nii.gz'\u001b[0m\u001b[0;34m)\u001b[0m\u001b[0;34m\u001b[0m\u001b[0m\n\u001b[1;32m      3\u001b[0m \u001b[0;34m\u001b[0m\u001b[0m\n\u001b[1;32m      4\u001b[0m \u001b[0;31m# We threshold to keep only the 20% of edges with the highest value\u001b[0m\u001b[0;34m\u001b[0m\u001b[0;34m\u001b[0m\u001b[0m\n\u001b[1;32m      5\u001b[0m \u001b[0;31m# because the graph is very dense\u001b[0m\u001b[0;34m\u001b[0m\u001b[0;34m\u001b[0m\u001b[0m\n",
      "\u001b[0;31mImportError\u001b[0m: cannot import name find_probabilistic_atlas_cut_coords"
     ]
    }
   ],
   "source": [
    "from nilearn.plotting import find_probabilistic_atlas_cut_coords\n",
    "atlas_region_coords=plotting.find_probabilistic_atlas_cut_coords('/home/uga_qinglin/Documents/nilearn-deep/experiments/canica_resting_state.nii.gz')\n",
    "\n",
    "# We threshold to keep only the 20% of edges with the highest value\n",
    "# because the graph is very dense\n",
    "plotting.plot_connectome(correlation_matrix, coords=atlas_region_coords,\n",
    "                         edge_threshold=\"80%\", colorbar=True)\n",
    "\n",
    "plotting.show()"
   ]
  },
  {
   "cell_type": "markdown",
   "metadata": {},
   "source": [
    "3D visualization in a web browser\n",
    "---------------------------------\n",
    "An alternative to :func:`nilearn.plotting.plot_connectome` is to use\n",
    ":func:`nilearn.plotting.view_connectome` that gives more interactive\n",
    "visualizations in a web browser. See `interactive-connectome-plotting`\n",
    "for more details.\n",
    "\n"
   ]
  },
  {
   "cell_type": "code",
   "execution_count": null,
   "metadata": {},
   "outputs": [],
   "source": [
    "view = plotting.view_connectome(correlation_matrix, coords, threshold='80%')\n",
    "\n",
    "# uncomment this to open the plot in a web browser:\n",
    "# view.open_in_browser()"
   ]
  },
  {
   "cell_type": "markdown",
   "metadata": {},
   "source": [
    "In a Jupyter notebook, if ``view`` is the output of a cell, it will\n",
    "be displayed below the cell\n",
    "\n"
   ]
  },
  {
   "cell_type": "code",
   "execution_count": null,
   "metadata": {},
   "outputs": [],
   "source": [
    "view"
   ]
  }
 ],
 "metadata": {
  "kernelspec": {
   "display_name": "Python 2",
   "language": "python",
   "name": "python2"
  },
  "language_info": {
   "codemirror_mode": {
    "name": "ipython",
    "version": 2
   },
   "file_extension": ".py",
   "mimetype": "text/x-python",
   "name": "python",
   "nbconvert_exporter": "python",
   "pygments_lexer": "ipython2",
   "version": "2.7.12"
  }
 },
 "nbformat": 4,
 "nbformat_minor": 1
}
