{
 "cells": [
  {
   "cell_type": "code",
   "execution_count": null,
   "metadata": {},
   "outputs": [],
   "source": [
    "import numpy as np\n",
    "data=np.load('/home/share/TmpData/Qinglin/HCP_Group/MOTOR100_0.2.npy')\n"
   ]
  },
  {
   "cell_type": "code",
   "execution_count": null,
   "metadata": {},
   "outputs": [],
   "source": [
    "data.shape(1)\n"
   ]
  },
  {
   "cell_type": "code",
   "execution_count": 5,
   "metadata": {},
   "outputs": [
    {
     "name": "stdout",
     "output_type": "stream",
     "text": [
      "Epoch: 0 Error: 8.186296\n",
      "Epoch: 1 Error: 7.690521\n",
      "Epoch: 2 Error: 7.345725\n",
      "Epoch: 3 Error: 7.061302\n",
      "Epoch: 4 Error: 6.816242\n",
      "Epoch: 5 Error: 6.595114\n",
      "Epoch: 6 Error: 6.391337\n",
      "Epoch: 7 Error: 6.201129\n",
      "Epoch: 8 Error: 6.026770\n",
      "Epoch: 9 Error: 5.860544\n",
      "Epoch: 10 Error: 5.704072\n",
      "Epoch: 11 Error: 5.559547\n",
      "Epoch: 12 Error: 5.420478\n",
      "Epoch: 13 Error: 5.287504\n",
      "Epoch: 14 Error: 5.159870\n",
      "Epoch: 15 Error: 5.041047\n",
      "Epoch: 16 Error: 4.926321\n",
      "Epoch: 17 Error: 4.814823\n",
      "Epoch: 18 Error: 4.710603\n",
      "Epoch: 19 Error: 4.610656\n"
     ]
    }
   ],
   "source": [
    "from nilearn.decomposition.rbm import RBM\n",
    "rbm=RBM(data.shape(1),30)\n",
    "\n",
    "rbm.train(data)"
   ]
  },
  {
   "cell_type": "code",
   "execution_count": null,
   "metadata": {},
   "outputs": [],
   "source": [
    "from nilearn.datasets import load_mni152_brain_mask\n",
    "mask_img = load_mni152_brain_mask()\n",
    "\n",
    "from nilearn.input_data import NiftiMasker\n",
    "masker = NiftiMasker(mask_img=mask_img, standardize=True)\n",
    "masker.fit()\n",
    "\n",
    "components_img = masker.inverse_transform(components_img)"
   ]
  },
  {
   "cell_type": "code",
   "execution_count": null,
   "metadata": {},
   "outputs": [],
   "source": [
    "from nilearn.plotting import plot_prob_atlas\n",
    "\n",
    "# Plot all ICA components together\n",
    "plot_prob_atlas(components_img, title='All ICA components')"
   ]
  },
  {
   "cell_type": "code",
   "execution_count": null,
   "metadata": {},
   "outputs": [],
   "source": [
    "from nilearn.image import iter_img\n",
    "from nilearn.plotting import plot_stat_map, show\n",
    "\n",
    "for i, cur_img in enumerate(iter_img(components_img)):\n",
    "    plot_stat_map(cur_img, display_mode=\"z\", title=\"IC %d\" % i,\n",
    "                  cut_coords=1, colorbar=False)\n",
    "\n",
    "show()"
   ]
  }
 ],
 "metadata": {
  "kernelspec": {
   "display_name": "Python 2",
   "language": "python",
   "name": "python2"
  },
  "language_info": {
   "codemirror_mode": {
    "name": "ipython",
    "version": 2
   },
   "file_extension": ".py",
   "mimetype": "text/x-python",
   "name": "python",
   "nbconvert_exporter": "python",
   "pygments_lexer": "ipython2",
   "version": "2.7.12"
  }
 },
 "nbformat": 4,
 "nbformat_minor": 2
}
