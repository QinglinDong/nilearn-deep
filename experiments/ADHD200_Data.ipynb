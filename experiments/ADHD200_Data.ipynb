{
 "cells": [
  {
   "cell_type": "code",
   "execution_count": 2,
   "metadata": {},
   "outputs": [],
   "source": [
    "import numpy as np"
   ]
  },
  {
   "cell_type": "code",
   "execution_count": null,
   "metadata": {},
   "outputs": [],
   "source": [
    "import os\n",
    "func_filenames=[]\n",
    "for x in os.listdir('/home/share/TmpData/Qinglin/ADHD200_Athena_preproc_flirtfix/NYU'):\n",
    "    file='/home/share/TmpData/Qinglin/ADHD200_Athena_preproc_flirtfix/NYU/'+str(x)+'/sfnwmrda'+str(x)+'_session_1_rest_1.nii.gz'\n",
    "    #print(file)\n",
    "    if os.path.isfile(file):\n",
    "        func_filenames.append(file)  \n",
    "    else:\n",
    "        print(file)  \n",
    "func_filenames=sorted(func_filenames)\n",
    "print(len(func_filenames))\n",
    "\n",
    "X = prepare_data(func_filenames)  # list of 4D nifti files for each subject  \n",
    "\n",
    "np.save('/home/share/TmpData/Qinglin/ADHD200_Athena_preproc_flirtfix/NYU/All_Data',X)\n"
   ]
  },
  {
   "cell_type": "code",
   "execution_count": 3,
   "metadata": {},
   "outputs": [],
   "source": [
    "import pandas as pd\n",
    "data = pd.read_csv('/home/share/TmpData/Qinglin/ADHD200_Athena_preproc_flirtfix/NYU/NYU_phenotypic.csv')\n",
    "Y = data['DX'].values\n",
    "\n",
    "for index, item in enumerate(Y):\n",
    "    if item>1:\n",
    "        Y[index] = 1\n",
    "np.save('/home/share/TmpData/Qinglin/ADHD200_Athena_preproc_flirtfix/NYU/All_Labels.npy',Y)"
   ]
  },
  {
   "cell_type": "code",
   "execution_count": null,
   "metadata": {},
   "outputs": [],
   "source": []
  }
 ],
 "metadata": {
  "kernelspec": {
   "display_name": "Python 3",
   "language": "python",
   "name": "python3"
  },
  "language_info": {
   "codemirror_mode": {
    "name": "ipython",
    "version": 3
   },
   "file_extension": ".py",
   "mimetype": "text/x-python",
   "name": "python",
   "nbconvert_exporter": "python",
   "pygments_lexer": "ipython3",
   "version": "3.5.2"
  }
 },
 "nbformat": 4,
 "nbformat_minor": 2
}
