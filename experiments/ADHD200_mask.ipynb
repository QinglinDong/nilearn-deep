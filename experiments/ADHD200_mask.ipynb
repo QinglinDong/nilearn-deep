{
 "cells": [
  {
   "cell_type": "markdown",
   "metadata": {},
   "source": [
    "generate mask"
   ]
  },
  {
   "cell_type": "code",
   "execution_count": 10,
   "metadata": {},
   "outputs": [],
   "source": [
    "from nilearn.datasets import fetch_neurovault_motor_task\n",
    "from nilearn.datasets import load_mni152_template\n",
    "from nilearn.image import load_img\n",
    "\n",
    "template = load_mni152_template()\n",
    "template_img = load_img(template)\n",
    "\n",
    "mask = '/storage/ADHD200/athena/NYU/0010001/mask_wmean_mrda0010001_session_1_rest_1.nii.gz'\n",
    "mask = load_img(mask)\n",
    "\n",
    "mean='/storage/ADHD200/athena/NYU/0010001/wmean_mrda0010001_session_1_rest_1.nii.gz'\n",
    "mean = load_img(mean)\n",
    "\n",
    "anat='/storage/ADHD200/athena/NYU/0010001/wssd0010001_session_1_anat.nii.gz'\n",
    "anat = load_img(anat)\n",
    "\n",
    "rest='/storage/ADHD200/athena/NYU/0010001/sfnwmrda0010001_session_1_rest_1.nii.gz'\n",
    "rest = load_img(rest)"
   ]
  },
  {
   "cell_type": "code",
   "execution_count": 11,
   "metadata": {},
   "outputs": [
    {
     "name": "stdout",
     "output_type": "stream",
     "text": [
      "[[  -2.    0.    0.   90.]\n",
      " [   0.    2.    0. -126.]\n",
      " [   0.    0.    2.  -72.]\n",
      " [   0.    0.    0.    1.]]\n",
      "[[  -4.   -0.   -0.   96.]\n",
      " [  -0.    4.   -0. -132.]\n",
      " [   0.    0.    4.  -70.]\n",
      " [   0.    0.    0.    1.]]\n",
      "[[  -4.   -0.   -0.   96.]\n",
      " [  -0.    4.   -0. -132.]\n",
      " [   0.    0.    4.  -70.]\n",
      " [   0.    0.    0.    1.]]\n",
      "[[  -1.   -0.   -0.   98.]\n",
      " [  -0.    1.   -0. -134.]\n",
      " [   0.    0.    1.  -72.]\n",
      " [   0.    0.    0.    1.]]\n",
      "[[  -4.   -0.   -0.   96.]\n",
      " [  -0.    4.   -0. -132.]\n",
      " [   0.    0.    4.  -70.]\n",
      " [   0.    0.    0.    1.]]\n"
     ]
    }
   ],
   "source": [
    "print(template_img.affine)\n",
    "print(mask.affine)\n",
    "print(mean.affine)\n",
    "print(anat.affine)\n",
    "print(rest.affine)"
   ]
  },
  {
   "cell_type": "code",
   "execution_count": 12,
   "metadata": {},
   "outputs": [
    {
     "name": "stderr",
     "output_type": "stream",
     "text": [
      "/home/uga_qinglin/Documents/nilearn-deep/nilearn/image/resampling.py:518: UserWarning: Casting data from int16 to float32\n",
      "  warnings.warn(\"Casting data from %s to %s\" % (data.dtype.name, aux))\n"
     ]
    }
   ],
   "source": [
    "from nilearn.image import resample_to_img\n",
    "\n",
    "resampled_stat_img = resample_to_img(template, mask)\n"
   ]
  },
  {
   "cell_type": "code",
   "execution_count": 14,
   "metadata": {},
   "outputs": [
    {
     "name": "stdout",
     "output_type": "stream",
     "text": [
      "[[  -4.   -0.   -0.   96.]\n",
      " [  -0.    4.   -0. -132.]\n",
      " [   0.    0.    4.  -70.]\n",
      " [   0.    0.    0.    1.]]\n"
     ]
    }
   ],
   "source": [
    "print(resampled_stat_img.affine)"
   ]
  },
  {
   "cell_type": "code",
   "execution_count": 15,
   "metadata": {},
   "outputs": [],
   "source": [
    "from nilearn.masking import compute_epi_mask\n",
    "mask_img = compute_epi_mask(resampled_stat_img)"
   ]
  },
  {
   "cell_type": "code",
   "execution_count": 16,
   "metadata": {},
   "outputs": [
    {
     "data": {
      "text/plain": [
       "<nilearn.plotting.displays.OrthoSlicer at 0x7f82fabd44a8>"
      ]
     },
     "execution_count": 16,
     "metadata": {},
     "output_type": "execute_result"
    },
    {
     "data": {
      "image/png": "[encoded data removed]",
      "text/plain": [
       "<Figure size 475.2x187.2 with 4 Axes>"
      ]
     },
     "metadata": {},
     "output_type": "display_data"
    }
   ],
   "source": [
    "from nilearn import plotting\n",
    "%matplotlib inline\n",
    "plotting.plot_img(resampled_stat_img)"
   ]
  },
  {
   "cell_type": "code",
   "execution_count": 17,
   "metadata": {},
   "outputs": [
    {
     "data": {
      "text/plain": [
       "<nilearn.plotting.displays.OrthoSlicer at 0x7f82faa85208>"
      ]
     },
     "execution_count": 17,
     "metadata": {},
     "output_type": "execute_result"
    },
    {
     "data": {
      "image/png": "[encoded data removed]",
      "text/plain": [
       "<Figure size 475.2x187.2 with 4 Axes>"
      ]
     },
     "metadata": {},
     "output_type": "display_data"
    }
   ],
   "source": [
    "plotting.plot_img(mask_img)"
   ]
  },
  {
   "cell_type": "code",
   "execution_count": 18,
   "metadata": {},
   "outputs": [
    {
     "name": "stdout",
     "output_type": "stream",
     "text": [
      "[MultiNiftiMasker.fit] Loading data from [Nifti1Image(\n",
      "shape=(49, 58, 47),\n",
      "affine=array([[  -4.,   -0.,   -0.,   96.],\n",
      "       [  -0.,    4.,   -0., -132.],\n",
      "       [   0.,    0.,    4.,  -70.],\n",
      "       [   0.,    0.,    0.,    1.]])\n",
      ")]\n",
      "[MultiNiftiMasker.fit] Computing mask\n",
      "[MultiNiftiMasker.transform] Resampling mask\n",
      "[CanICA] Loading data\n",
      "<class 'nibabel.nifti1.Nifti1Image'>\n",
      "data shape (49, 58, 47)\n",
      "affine: \n",
      "[[  -4.   -0.   -0.   96.]\n",
      " [  -0.    4.   -0. -132.]\n",
      " [   0.    0.    4.  -70.]\n",
      " [   0.    0.    0.    1.]]\n",
      "metadata:\n",
      "<class 'nibabel.nifti1.Nifti1Header'> object, endian='<'\n",
      "sizeof_hdr      : 348\n",
      "data_type       : b''\n",
      "db_name         : b''\n",
      "extents         : 0\n",
      "session_error   : 0\n",
      "regular         : b''\n",
      "dim_info        : 0\n",
      "dim             : [ 3 49 58 47  1  1  1  1]\n",
      "intent_p1       : 0.0\n",
      "intent_p2       : 0.0\n",
      "intent_p3       : 0.0\n",
      "intent_code     : none\n",
      "datatype        : int8\n",
      "bitpix          : 8\n",
      "slice_start     : 0\n",
      "pixdim          : [-1.  4.  4.  4.  1.  1.  1.  1.]\n",
      "vox_offset      : 0.0\n",
      "scl_slope       : nan\n",
      "scl_inter       : nan\n",
      "slice_end       : 0\n",
      "slice_code      : unknown\n",
      "xyzt_units      : 0\n",
      "cal_max         : 0.0\n",
      "cal_min         : 0.0\n",
      "slice_duration  : 0.0\n",
      "toffset         : 0.0\n",
      "glmax           : 0\n",
      "glmin           : 0\n",
      "descrip         : b''\n",
      "aux_file        : b''\n",
      "qform_code      : unknown\n",
      "sform_code      : aligned\n",
      "quatern_b       : 0.0\n",
      "quatern_c       : 1.0\n",
      "quatern_d       : 0.0\n",
      "qoffset_x       : 96.0\n",
      "qoffset_y       : -132.0\n",
      "qoffset_z       : -70.0\n",
      "srow_x          : [-4. -0. -0. 96.]\n",
      "srow_y          : [  -0.    4.   -0. -132.]\n",
      "srow_z          : [  0.   0.   4. -70.]\n",
      "intent_name     : b''\n",
      "magic           : b'n+1'\n",
      "[MultiNiftiMasker.transform_single_imgs] Loading data from Nifti1Image(\n",
      "shape=(49, 58, 47, 1),\n",
      "affine=array([[  -4.,   -0.,   -0.,   96.],\n",
      "       [  -0.,    4.,   -0., -132.],\n",
      "       [   0.,    0.,    4.,  -70.],\n",
      "       [   0.,    0.,    0.,    1.]])\n",
      ")\n",
      "[MultiNiftiMasker.transform_single_imgs] Smoothing images\n",
      "[MultiNiftiMasker.transform_single_imgs] Extracting region signals\n",
      "[MultiNiftiMasker.transform_single_imgs] Cleaning extracted signals\n"
     ]
    },
    {
     "name": "stderr",
     "output_type": "stream",
     "text": [
      "[Parallel(n_jobs=1)]: Using backend SequentialBackend with 1 concurrent workers.\n",
      "[Parallel(n_jobs=1)]: Done   1 out of   1 | elapsed:    0.1s remaining:    0.0s\n",
      "[Parallel(n_jobs=1)]: Done   1 out of   1 | elapsed:    0.1s finished\n",
      "/home/uga_qinglin/Documents/nilearn-deep/nilearn/signal.py:139: UserWarning: Detrending of 3D signal has been requested but would lead to zero values. Skipping.\n",
      "  warnings.warn('Detrending of 3D signal has been requested but '\n",
      "/home/uga_qinglin/Documents/nilearn-deep/nilearn/signal.py:51: UserWarning: Standardization of 3D signal has been requested but would lead to zero values. Skipping.\n",
      "  warnings.warn('Standardization of 3D signal has been requested but '\n"
     ]
    },
    {
     "name": "stdout",
     "output_type": "stream",
     "text": [
      "(1, 28536)\n"
     ]
    }
   ],
   "source": [
    "from nilearn.decomposition import CanICA\n",
    "\n",
    "canica = CanICA(n_components=20, smoothing_fwhm=6.,\n",
    "                memory=\"nilearn_cache\", memory_level=2,\n",
    "                threshold=3., verbose=10, random_state=0)\n",
    "data=canica.prepare_data(mask_img)\n",
    "print(data.shape)"
   ]
  },
  {
   "cell_type": "code",
   "execution_count": 19,
   "metadata": {},
   "outputs": [],
   "source": [
    "mask_img.to_filename('/home/share/TmpData/Qinglin/ADHD200_Athena_preproc_flirtfix/ADHD200_mask_152_4mm.nii.gz')"
   ]
  },
  {
   "cell_type": "code",
   "execution_count": null,
   "metadata": {},
   "outputs": [],
   "source": []
  }
 ],
 "metadata": {
  "kernelspec": {
   "display_name": "Python 3",
   "language": "python",
   "name": "python3"
  },
  "language_info": {
   "codemirror_mode": {
    "name": "ipython",
    "version": 3
   },
   "file_extension": ".py",
   "mimetype": "text/x-python",
   "name": "python",
   "nbconvert_exporter": "python",
   "pygments_lexer": "ipython3",
   "version": "3.5.2"
  }
 },
 "nbformat": 4,
 "nbformat_minor": 2
}
