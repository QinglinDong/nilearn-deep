{
 "cells": [
  {
   "cell_type": "code",
   "execution_count": 1,
   "metadata": {},
   "outputs": [],
   "source": [
    "%matplotlib inline"
   ]
  },
  {
   "cell_type": "markdown",
   "metadata": {},
   "source": [
    "\n",
    "Connectivity structure estimation on simulated data\n",
    "===================================================\n",
    "\n",
    "This example shows a comparison of graph lasso and group-sparse covariance\n",
    "estimation of connectivity structre for a synthetic dataset.\n",
    "\n",
    "\n"
   ]
  },
  {
   "cell_type": "code",
   "execution_count": 2,
   "metadata": {},
   "outputs": [
    {
     "name": "stderr",
     "output_type": "stream",
     "text": [
      "/usr/local/lib/python3.5/dist-packages/sklearn/model_selection/_split.py:1943: FutureWarning: You should specify a value for 'cv' instead of relying on the default value. The default value will change from 3 to 5 in version 0.22.\n",
      "  warnings.warn(CV_WARNING, FutureWarning)\n",
      "[Parallel(n_jobs=1)]: Using backend SequentialBackend with 1 concurrent workers.\n",
      "[Parallel(n_jobs=1)]: Done   3 out of   3 | elapsed:    0.3s finished\n",
      "[Parallel(n_jobs=1)]: Using backend SequentialBackend with 1 concurrent workers.\n"
     ]
    },
    {
     "name": "stdout",
     "output_type": "stream",
     "text": [
      "[GroupSparseCovarianceCV.fit] [GroupSparseCovarianceCV] Done refinement  1 out of 4\n"
     ]
    },
    {
     "name": "stderr",
     "output_type": "stream",
     "text": [
      "[Parallel(n_jobs=1)]: Done   3 out of   3 | elapsed:    0.3s finished\n",
      "[Parallel(n_jobs=1)]: Using backend SequentialBackend with 1 concurrent workers.\n"
     ]
    },
    {
     "name": "stdout",
     "output_type": "stream",
     "text": [
      "[GroupSparseCovarianceCV.fit] [GroupSparseCovarianceCV] Done refinement  2 out of 4\n"
     ]
    },
    {
     "name": "stderr",
     "output_type": "stream",
     "text": [
      "[Parallel(n_jobs=1)]: Done   3 out of   3 | elapsed:    0.3s finished\n",
      "[Parallel(n_jobs=1)]: Using backend SequentialBackend with 1 concurrent workers.\n"
     ]
    },
    {
     "name": "stdout",
     "output_type": "stream",
     "text": [
      "[GroupSparseCovarianceCV.fit] [GroupSparseCovarianceCV] Done refinement  3 out of 4\n"
     ]
    },
    {
     "name": "stderr",
     "output_type": "stream",
     "text": [
      "[Parallel(n_jobs=1)]: Done   3 out of   3 | elapsed:    0.3s finished\n",
      "/home/uga_qinglin/Documents/nilearn-deep/nilearn/connectome/group_sparse_cov.py:245: UserWarning: input signals do not all have unit variance. This can lead to numerical instability.\n",
      "  warnings.warn(\"input signals do not all have unit variance. This \"\n",
      "/usr/local/lib/python3.5/dist-packages/sklearn/utils/deprecation.py:58: DeprecationWarning: Class GraphLassoCV is deprecated; The 'GraphLassoCV' was renamed to 'GraphicalLassoCV' in version 0.20 and will be removed in 0.22.\n",
      "  warnings.warn(msg, category=DeprecationWarning)\n",
      "/usr/local/lib/python3.5/dist-packages/sklearn/model_selection/_split.py:1943: FutureWarning: You should specify a value for 'cv' instead of relying on the default value. The default value will change from 3 to 5 in version 0.22.\n",
      "  warnings.warn(CV_WARNING, FutureWarning)\n",
      "[Parallel(n_jobs=1)]: Using backend SequentialBackend with 1 concurrent workers.\n",
      "[Parallel(n_jobs=1)]: Done   3 out of   3 | elapsed:    0.1s finished\n",
      "[Parallel(n_jobs=1)]: Using backend SequentialBackend with 1 concurrent workers.\n"
     ]
    },
    {
     "name": "stdout",
     "output_type": "stream",
     "text": [
      "[GroupSparseCovarianceCV.fit] [GroupSparseCovarianceCV] Done refinement  4 out of 4\n",
      "[GroupSparseCovarianceCV.fit] Final optimization\n",
      "[GraphicalLassoCV] Done refinement  1 out of 4:   0s\n"
     ]
    },
    {
     "name": "stderr",
     "output_type": "stream",
     "text": [
      "[Parallel(n_jobs=1)]: Done   3 out of   3 | elapsed:    0.0s finished\n",
      "[Parallel(n_jobs=1)]: Using backend SequentialBackend with 1 concurrent workers.\n",
      "[Parallel(n_jobs=1)]: Done   3 out of   3 | elapsed:    0.0s finished\n",
      "[Parallel(n_jobs=1)]: Using backend SequentialBackend with 1 concurrent workers.\n",
      "[Parallel(n_jobs=1)]: Done   3 out of   3 | elapsed:    0.0s finished\n",
      "/usr/local/lib/python3.5/dist-packages/sklearn/model_selection/_split.py:1943: FutureWarning: You should specify a value for 'cv' instead of relying on the default value. The default value will change from 3 to 5 in version 0.22.\n",
      "  warnings.warn(CV_WARNING, FutureWarning)\n",
      "[Parallel(n_jobs=1)]: Using backend SequentialBackend with 1 concurrent workers.\n",
      "[Parallel(n_jobs=1)]: Done   3 out of   3 | elapsed:    0.0s finished\n",
      "[Parallel(n_jobs=1)]: Using backend SequentialBackend with 1 concurrent workers.\n",
      "[Parallel(n_jobs=1)]: Done   3 out of   3 | elapsed:    0.0s finished\n",
      "[Parallel(n_jobs=1)]: Using backend SequentialBackend with 1 concurrent workers.\n",
      "[Parallel(n_jobs=1)]: Done   3 out of   3 | elapsed:    0.0s finished\n",
      "[Parallel(n_jobs=1)]: Using backend SequentialBackend with 1 concurrent workers.\n",
      "[Parallel(n_jobs=1)]: Done   3 out of   3 | elapsed:    0.0s finished\n"
     ]
    },
    {
     "name": "stdout",
     "output_type": "stream",
     "text": [
      "[GraphicalLassoCV] Done refinement  2 out of 4:   0s\n",
      "[GraphicalLassoCV] Done refinement  3 out of 4:   0s\n",
      "[GraphicalLassoCV] Done refinement  4 out of 4:   0s\n",
      "[GraphicalLassoCV] Done refinement  1 out of 4:   0s\n",
      "[GraphicalLassoCV] Done refinement  2 out of 4:   0s\n",
      "[GraphicalLassoCV] Done refinement  3 out of 4:   0s\n",
      "[GraphicalLassoCV] Done refinement  4 out of 4:   0s\n"
     ]
    },
    {
     "name": "stderr",
     "output_type": "stream",
     "text": [
      "/usr/local/lib/python3.5/dist-packages/sklearn/model_selection/_split.py:1943: FutureWarning: You should specify a value for 'cv' instead of relying on the default value. The default value will change from 3 to 5 in version 0.22.\n",
      "  warnings.warn(CV_WARNING, FutureWarning)\n",
      "[Parallel(n_jobs=1)]: Using backend SequentialBackend with 1 concurrent workers.\n",
      "[Parallel(n_jobs=1)]: Done   3 out of   3 | elapsed:    0.1s finished\n",
      "[Parallel(n_jobs=1)]: Using backend SequentialBackend with 1 concurrent workers.\n",
      "[Parallel(n_jobs=1)]: Done   3 out of   3 | elapsed:    0.0s finished\n",
      "[Parallel(n_jobs=1)]: Using backend SequentialBackend with 1 concurrent workers.\n",
      "[Parallel(n_jobs=1)]: Done   3 out of   3 | elapsed:    0.0s finished\n",
      "[Parallel(n_jobs=1)]: Using backend SequentialBackend with 1 concurrent workers.\n",
      "[Parallel(n_jobs=1)]: Done   3 out of   3 | elapsed:    0.0s finished\n",
      "/usr/local/lib/python3.5/dist-packages/sklearn/model_selection/_split.py:1943: FutureWarning: You should specify a value for 'cv' instead of relying on the default value. The default value will change from 3 to 5 in version 0.22.\n",
      "  warnings.warn(CV_WARNING, FutureWarning)\n",
      "[Parallel(n_jobs=1)]: Using backend SequentialBackend with 1 concurrent workers.\n"
     ]
    },
    {
     "name": "stdout",
     "output_type": "stream",
     "text": [
      "[GraphicalLassoCV] Done refinement  1 out of 4:   0s\n",
      "[GraphicalLassoCV] Done refinement  2 out of 4:   0s\n",
      "[GraphicalLassoCV] Done refinement  3 out of 4:   0s\n",
      "[GraphicalLassoCV] Done refinement  4 out of 4:   0s\n",
      "[GraphicalLassoCV] Done refinement  1 out of 4:   0s\n",
      "[GraphicalLassoCV] Done refinement  2 out of 4:   0s\n"
     ]
    },
    {
     "name": "stderr",
     "output_type": "stream",
     "text": [
      "[Parallel(n_jobs=1)]: Done   3 out of   3 | elapsed:    0.0s finished\n",
      "[Parallel(n_jobs=1)]: Using backend SequentialBackend with 1 concurrent workers.\n",
      "[Parallel(n_jobs=1)]: Done   3 out of   3 | elapsed:    0.0s finished\n",
      "[Parallel(n_jobs=1)]: Using backend SequentialBackend with 1 concurrent workers.\n",
      "[Parallel(n_jobs=1)]: Done   3 out of   3 | elapsed:    0.0s finished\n",
      "[Parallel(n_jobs=1)]: Using backend SequentialBackend with 1 concurrent workers.\n",
      "[Parallel(n_jobs=1)]: Done   3 out of   3 | elapsed:    0.0s finished\n"
     ]
    },
    {
     "name": "stdout",
     "output_type": "stream",
     "text": [
      "[GraphicalLassoCV] Done refinement  3 out of 4:   0s\n",
      "[GraphicalLassoCV] Done refinement  4 out of 4:   0s\n"
     ]
    },
    {
     "data": {
      "image/png": "[encoded data removed]",
      "text/plain": [
       "<Figure size 720x504 with 10 Axes>"
      ]
     },
     "metadata": {
      "needs_background": "light"
     },
     "output_type": "display_data"
    }
   ],
   "source": [
    "import matplotlib.pyplot as plt\n",
    "\n",
    "\n",
    "# Generate synthetic data\n",
    "from nilearn._utils.data_gen import generate_group_sparse_gaussian_graphs\n",
    "from nilearn.plotting import show\n",
    "\n",
    "n_subjects = 20  # number of subjects\n",
    "n_displayed = 3  # number of subjects displayed\n",
    "subjects, precisions, topology = generate_group_sparse_gaussian_graphs(\n",
    "    n_subjects=n_subjects, n_features=10, min_n_samples=30, max_n_samples=50,\n",
    "    density=0.1)\n",
    "\n",
    "from nilearn import plotting\n",
    "fig = plt.figure(figsize=(10, 7))\n",
    "plt.subplots_adjust(hspace=0.4)\n",
    "for n in range(n_displayed):\n",
    "    ax = plt.subplot(n_displayed, 4, 4 * n + 1)\n",
    "    max_precision = precisions[n].max()\n",
    "    plotting.plot_matrix(precisions[n], vmin=-max_precision,\n",
    "                         vmax=max_precision, axes=ax, colorbar=False)\n",
    "\n",
    "    if n == 0:\n",
    "        plt.title(\"ground truth\")\n",
    "    plt.ylabel(\"subject %d\" % n)\n",
    "\n",
    "\n",
    "# Run group-sparse covariance on all subjects\n",
    "from nilearn.connectome import GroupSparseCovarianceCV\n",
    "gsc = GroupSparseCovarianceCV(max_iter=50, verbose=1)\n",
    "gsc.fit(subjects)\n",
    "\n",
    "for n in range(n_displayed):\n",
    "    ax = plt.subplot(n_displayed, 4, 4 * n + 2)\n",
    "    max_precision = gsc.precisions_[..., n].max()\n",
    "    plotting.plot_matrix(gsc.precisions_[..., n], axes=ax, vmin=-max_precision,\n",
    "                         vmax=max_precision, colorbar=False)\n",
    "    if n == 0:\n",
    "        plt.title(\"group-sparse\\n$\\\\alpha=%.2f$\" % gsc.alpha_)\n",
    "\n",
    "\n",
    "# Fit one graph lasso per subject\n",
    "from sklearn.covariance import GraphLassoCV\n",
    "gl = GraphLassoCV(verbose=1)\n",
    "\n",
    "for n, subject in enumerate(subjects[:n_displayed]):\n",
    "    gl.fit(subject)\n",
    "\n",
    "    ax = plt.subplot(n_displayed, 4, 4 * n + 3)\n",
    "    max_precision = gl.precision_.max()\n",
    "    plotting.plot_matrix(gl.precision_, axes=ax, vmin=-max_precision,\n",
    "                         vmax=max_precision, colorbar=False)\n",
    "    if n == 0:\n",
    "        plt.title(\"graph lasso\")\n",
    "    plt.ylabel(\"$\\\\alpha=%.2f$\" % gl.alpha_)\n",
    "\n",
    "\n",
    "# Fit one graph lasso for all subjects at once\n",
    "import numpy as np\n",
    "gl.fit(np.concatenate(subjects))\n",
    "\n",
    "ax = plt.subplot(n_displayed, 4, 4)\n",
    "max_precision = gl.precision_.max()\n",
    "plotting.plot_matrix(gl.precision_, axes=ax, vmin=-max_precision,\n",
    "                     vmax=max_precision, colorbar=False)\n",
    "plt.title(\"graph lasso, all subjects\\n$\\\\alpha=%.2f$\" % gl.alpha_)\n",
    "\n",
    "show()"
   ]
  },
  {
   "cell_type": "code",
   "execution_count": null,
   "metadata": {},
   "outputs": [],
   "source": []
  }
 ],
 "metadata": {
  "kernelspec": {
   "display_name": "Python 3",
   "language": "python",
   "name": "python3"
  },
  "language_info": {
   "codemirror_mode": {
    "name": "ipython",
    "version": 3
   },
   "file_extension": ".py",
   "mimetype": "text/x-python",
   "name": "python",
   "nbconvert_exporter": "python",
   "pygments_lexer": "ipython3",
   "version": "3.5.2"
  }
 },
 "nbformat": 4,
 "nbformat_minor": 1
}
